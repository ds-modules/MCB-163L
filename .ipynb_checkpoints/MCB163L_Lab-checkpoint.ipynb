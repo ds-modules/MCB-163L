{
 "cells": [
  {
   "cell_type": "markdown",
   "metadata": {},
   "source": [
    "# Lab 12: Introduction to Allen Brain Connectivity Atlas"
   ]
  },
  {
   "cell_type": "markdown",
   "metadata": {},
   "source": [
    "## Introduction"
   ]
  },
  {
   "cell_type": "markdown",
   "metadata": {},
   "source": [
    "The **Allen Brain Institute for Brain Science** is a non-profit research institute that uses big science to understand how the brain works. One fo the projects we will be looking into is how to map gene expression and connectivity in different areas of the mouse brain. The amount of data they collect is vast – they have collected the expression patterns of over 20,000 (of about 25,000 total) genes in the mouse brain. All the data is publicly available, allowing neuroscientists to explore the comprehensive data sets, which one individual lab could never generate on their own.\n",
    "\n",
    "In this part of the lab, you will be utilizing the online database from the **Allen Brain Connectivity Atlas** that contains information about experiment projection sites, densities, and intensities to make statistical analyses. You will be analyzing the anatomy and neural connectivity map of the **Papez Circuit** through the limbic system in mouse brains.\n",
    "\n",
    "<img src='papez_circuit.jpg', width=\"750px\"/>"
   ]
  },
  {
   "cell_type": "markdown",
   "metadata": {},
   "source": [
    "## Part 1: Papez Circuit in the Limbic System"
   ]
  },
  {
   "cell_type": "markdown",
   "metadata": {},
   "source": [
    "The **Papez circuit** (also known as the medial limbic circuit) is a pathway through the limbic system originally described by James Papez in 1937. He believed that this circuit was the basis of emotions, but we know now that it is actually more involved in memory formation. Damage to different components of the circuit, like the hippocampus, mammillary bodies, and fornix, can result in amnesia. Since the initial description of the circuit, we have discovered many more inputs and outputs to these structures, but the Papez circuit still serves as a good review of major limbic system pathways. We will look for this circuit using the mouse brain connectivity atlas.\n",
    "\n",
    "In this Section, you will be:\n",
    "\n",
    "* Exploring the **Allensdk Mouse Brain API**\n",
    "* Understanding the anatomy of the **Papez Circuit**\n",
    "* Using statistical analysis to understand neural projections and connectivity\n",
    "\n",
    "We will start by looking into the information gathered for the Subiculum.\n"
   ]
  },
  {
   "cell_type": "code",
   "execution_count": 5,
   "metadata": {
    "collapsed": true
   },
   "outputs": [],
   "source": [
    "# Run this cell\n",
    "\n",
    "import pandas as pd\n",
    "import numpy as np\n",
    "import os\n",
    "import matplotlib.pyplot as plt\n",
    "from allensdk.core.mouse_connectivity_cache import MouseConnectivityCache\n",
    "from allensdk.api.queries.ontologies_api import OntologiesApi\n",
    "\n",
    "%matplotlib inline \n",
    "import seaborn as sns\n",
    "\n",
    "# Activates the API and cache\n",
    "\n",
    "mcc = MouseConnectivityCache()\n",
    "structure_tree = mcc.get_structure_tree()"
   ]
  },
  {
   "cell_type": "markdown",
   "metadata": {},
   "source": [
    "## Question 1a:"
   ]
  },
  {
   "cell_type": "markdown",
   "metadata": {},
   "source": [
    "To get data about the **Subiculum**, we want to use the structure_tree and the get_structures_by_name function. This function takes in a **list** (denoted by brackets) with a **string** (denoted in quotes) of the name of the structure. Suppose we want to get information about the Subiculum. Fill the code below that would output this."
   ]
  },
  {
   "cell_type": "code",
   "execution_count": 6,
   "metadata": {},
   "outputs": [
    {
     "data": {
      "text/plain": [
       "[{'acronym': 'SUB',\n",
       "  'graph_id': 1,\n",
       "  'graph_order': 535,\n",
       "  'id': 502,\n",
       "  'name': 'Subiculum',\n",
       "  'rgb_triplet': [79, 194, 68],\n",
       "  'structure_id_path': [997, 8, 567, 688, 695, 1089, 822, 502],\n",
       "  'structure_set_ids': [112905828,\n",
       "   691663206,\n",
       "   688152359,\n",
       "   687527945,\n",
       "   10,\n",
       "   12,\n",
       "   184527634,\n",
       "   112905813,\n",
       "   167587189,\n",
       "   114512891,\n",
       "   114512892]}]"
      ]
     },
     "execution_count": 6,
     "metadata": {},
     "output_type": "execute_result"
    }
   ],
   "source": [
    "# Replace \"...\" with the structure name.\n",
    "\n",
    "subiculum = structure_tree.get_structures_by_name([\"Subiculum\"])\n",
    "subiculum"
   ]
  },
  {
   "cell_type": "markdown",
   "metadata": {},
   "source": [
    "Suppose we want the structure id for the Subiculum. We simply get the dictionary in this list and grab the id."
   ]
  },
  {
   "cell_type": "code",
   "execution_count": 7,
   "metadata": {},
   "outputs": [
    {
     "name": "stdout",
     "output_type": "stream",
     "text": [
      "502\n"
     ]
    }
   ],
   "source": [
    "# Run this cell\n",
    "\n",
    "subiculum_id = subiculum[0]['id']\n",
    "print(subiculum_id)"
   ]
  },
  {
   "cell_type": "markdown",
   "metadata": {},
   "source": [
    "## Question 1b:"
   ]
  },
  {
   "cell_type": "markdown",
   "metadata": {},
   "source": [
    "Using the subiculum id, we can aquire all the information regarding the injection experiments done in the Subiculum into a DataFrame. We use Allen Brain's **mcc.get_experiments** function to do this. In the code below, insert the structure id we want to study."
   ]
  },
  {
   "cell_type": "code",
   "execution_count": 10,
   "metadata": {},
   "outputs": [
    {
     "data": {
      "text/html": [
       "<div>\n",
       "<style>\n",
       "    .dataframe thead tr:only-child th {\n",
       "        text-align: right;\n",
       "    }\n",
       "\n",
       "    .dataframe thead th {\n",
       "        text-align: left;\n",
       "    }\n",
       "\n",
       "    .dataframe tbody tr th {\n",
       "        vertical-align: top;\n",
       "    }\n",
       "</style>\n",
       "<table border=\"1\" class=\"dataframe\">\n",
       "  <thead>\n",
       "    <tr style=\"text-align: right;\">\n",
       "      <th></th>\n",
       "      <th>gender</th>\n",
       "      <th>id</th>\n",
       "      <th>injection_structures</th>\n",
       "      <th>injection_volume</th>\n",
       "      <th>injection_x</th>\n",
       "      <th>injection_y</th>\n",
       "      <th>injection_z</th>\n",
       "      <th>primary_injection_structure</th>\n",
       "      <th>product_id</th>\n",
       "      <th>specimen_name</th>\n",
       "      <th>strain</th>\n",
       "      <th>structure_abbrev</th>\n",
       "      <th>structure_id</th>\n",
       "      <th>structure_name</th>\n",
       "      <th>transgenic_line</th>\n",
       "      <th>transgenic_line_id</th>\n",
       "    </tr>\n",
       "  </thead>\n",
       "  <tbody>\n",
       "    <tr>\n",
       "      <th>0</th>\n",
       "      <td>F</td>\n",
       "      <td>527712447</td>\n",
       "      <td>[502, 926, 1084, 484682470]</td>\n",
       "      <td>0.006655</td>\n",
       "      <td>9240</td>\n",
       "      <td>3070</td>\n",
       "      <td>8990</td>\n",
       "      <td>502</td>\n",
       "      <td>5</td>\n",
       "      <td>Penk-IRES2-Cre-neo-249961</td>\n",
       "      <td>C57BL/6J</td>\n",
       "      <td>SUB</td>\n",
       "      <td>502</td>\n",
       "      <td>Subiculum</td>\n",
       "      <td>Penk-IRES2-Cre-neo</td>\n",
       "      <td>298725927.0</td>\n",
       "    </tr>\n",
       "    <tr>\n",
       "      <th>1</th>\n",
       "      <td>M</td>\n",
       "      <td>506426778</td>\n",
       "      <td>[502, 918, 926, 312782628]</td>\n",
       "      <td>0.324160</td>\n",
       "      <td>9500</td>\n",
       "      <td>4320</td>\n",
       "      <td>9420</td>\n",
       "      <td>502</td>\n",
       "      <td>5</td>\n",
       "      <td>Gpr26-Cre_KO250-206293</td>\n",
       "      <td>None</td>\n",
       "      <td>SUB</td>\n",
       "      <td>502</td>\n",
       "      <td>Subiculum</td>\n",
       "      <td>Gpr26-Cre_KO250</td>\n",
       "      <td>177839285.0</td>\n",
       "    </tr>\n",
       "    <tr>\n",
       "      <th>2</th>\n",
       "      <td>M</td>\n",
       "      <td>550155867</td>\n",
       "      <td>[502, 726, 843, 926, 1084]</td>\n",
       "      <td>0.203537</td>\n",
       "      <td>9280</td>\n",
       "      <td>4410</td>\n",
       "      <td>8940</td>\n",
       "      <td>502</td>\n",
       "      <td>5</td>\n",
       "      <td>Slc17a6-IRES-Cre-261141</td>\n",
       "      <td>None</td>\n",
       "      <td>SUB</td>\n",
       "      <td>502</td>\n",
       "      <td>Subiculum</td>\n",
       "      <td>Slc17a6-IRES-Cre</td>\n",
       "      <td>177838048.0</td>\n",
       "    </tr>\n",
       "    <tr>\n",
       "      <th>3</th>\n",
       "      <td>M</td>\n",
       "      <td>126523791</td>\n",
       "      <td>[215, 294, 502, 628, 706, 886, 1061, 484682470]</td>\n",
       "      <td>0.359012</td>\n",
       "      <td>7960</td>\n",
       "      <td>2400</td>\n",
       "      <td>6420</td>\n",
       "      <td>215</td>\n",
       "      <td>5</td>\n",
       "      <td>378-1282</td>\n",
       "      <td>C57BL/6J</td>\n",
       "      <td>SUB</td>\n",
       "      <td>502</td>\n",
       "      <td>Subiculum</td>\n",
       "      <td>None</td>\n",
       "      <td>NaN</td>\n",
       "    </tr>\n",
       "    <tr>\n",
       "      <th>4</th>\n",
       "      <td>F</td>\n",
       "      <td>556343427</td>\n",
       "      <td>[502, 726, 918, 926, 1084, 484682470]</td>\n",
       "      <td>0.349502</td>\n",
       "      <td>9510</td>\n",
       "      <td>4270</td>\n",
       "      <td>9450</td>\n",
       "      <td>502</td>\n",
       "      <td>5</td>\n",
       "      <td>Slc17a6-IRES-Cre-272451</td>\n",
       "      <td>None</td>\n",
       "      <td>SUB</td>\n",
       "      <td>502</td>\n",
       "      <td>Subiculum</td>\n",
       "      <td>Slc17a6-IRES-Cre</td>\n",
       "      <td>177838048.0</td>\n",
       "    </tr>\n",
       "  </tbody>\n",
       "</table>\n",
       "</div>"
      ],
      "text/plain": [
       "  gender         id                             injection_structures  \\\n",
       "0      F  527712447                      [502, 926, 1084, 484682470]   \n",
       "1      M  506426778                       [502, 918, 926, 312782628]   \n",
       "2      M  550155867                       [502, 726, 843, 926, 1084]   \n",
       "3      M  126523791  [215, 294, 502, 628, 706, 886, 1061, 484682470]   \n",
       "4      F  556343427            [502, 726, 918, 926, 1084, 484682470]   \n",
       "\n",
       "   injection_volume  injection_x  injection_y  injection_z  \\\n",
       "0          0.006655         9240         3070         8990   \n",
       "1          0.324160         9500         4320         9420   \n",
       "2          0.203537         9280         4410         8940   \n",
       "3          0.359012         7960         2400         6420   \n",
       "4          0.349502         9510         4270         9450   \n",
       "\n",
       "   primary_injection_structure  product_id              specimen_name  \\\n",
       "0                          502           5  Penk-IRES2-Cre-neo-249961   \n",
       "1                          502           5     Gpr26-Cre_KO250-206293   \n",
       "2                          502           5    Slc17a6-IRES-Cre-261141   \n",
       "3                          215           5                   378-1282   \n",
       "4                          502           5    Slc17a6-IRES-Cre-272451   \n",
       "\n",
       "     strain structure_abbrev  structure_id structure_name     transgenic_line  \\\n",
       "0  C57BL/6J              SUB           502      Subiculum  Penk-IRES2-Cre-neo   \n",
       "1      None              SUB           502      Subiculum     Gpr26-Cre_KO250   \n",
       "2      None              SUB           502      Subiculum    Slc17a6-IRES-Cre   \n",
       "3  C57BL/6J              SUB           502      Subiculum                None   \n",
       "4      None              SUB           502      Subiculum    Slc17a6-IRES-Cre   \n",
       "\n",
       "   transgenic_line_id  \n",
       "0         298725927.0  \n",
       "1         177839285.0  \n",
       "2         177838048.0  \n",
       "3                 NaN  \n",
       "4         177838048.0  "
      ]
     },
     "execution_count": 10,
     "metadata": {},
     "output_type": "execute_result"
    }
   ],
   "source": [
    "# This is a list of dictionaries.\n",
    "\n",
    "experiments = mcc.get_experiments(injection_structure_ids=[502]) # insert your structure id here\n",
    "\n",
    "# a list of dictionaries can be directly converted into a dataframe. Syntax:\n",
    "data = pd.DataFrame(experiments)\n",
    "data.head()"
   ]
  },
  {
   "cell_type": "markdown",
   "metadata": {},
   "source": [
    "Our output **data.head()** shows us only the first 5 experiments. Removing **.head()** will allow us to see the full list of experiments in this DataFrame. We can also find the how many experiments there are by simply using the **len** function to count the number of rows."
   ]
  },
  {
   "cell_type": "code",
   "execution_count": 11,
   "metadata": {},
   "outputs": [
    {
     "name": "stdout",
     "output_type": "stream",
     "text": [
      "Total number of experiments in the Subiculum: 30\n"
     ]
    }
   ],
   "source": [
    "# Run this cell\n",
    "\n",
    "print('Total number of experiments in the Subiculum:', len(data))"
   ]
  },
  {
   "cell_type": "markdown",
   "metadata": {},
   "source": [
    "We can also find the summary structure ids using a function from the **MouseConnectivityCache** **structure_tree** method. Using the **get_structures_by_set_id** function, we can access any of the Allen Institute's predefined structure sets by their unique id. For the \"Mouse Connectivity - Summary\" structure set, the unique id is **167587189**."
   ]
  },
  {
   "cell_type": "code",
   "execution_count": 13,
   "metadata": {
    "collapsed": true
   },
   "outputs": [],
   "source": [
    "# Allows us to get a summary of the structure set for the Mouse Brain\n",
    "# Run this cell\n",
    "\n",
    "summary_structures = structure_tree.get_structures_by_set_id([167587189])\n",
    "summary_structure_ids = [item['id'] for item in summary_structures]"
   ]
  },
  {
   "cell_type": "markdown",
   "metadata": {},
   "source": [
    "## Question 1c:"
   ]
  },
  {
   "cell_type": "markdown",
   "metadata": {},
   "source": [
    "Let's first look at all the targets for a single experiment. Look back at the Allen Brain Atlas Mouse Connectivity online. Remove \"grey\" and \"retina\" in the \"Filter Source Structure(s)\" Section and replace it with \"SUB\" for Subiculum. Then select \"Wild\" for Wild Type mice in the \"Filter Mouse Line\" Section. Select one of the dots. Selectively choose one of the dots on the mouse brain (one not too large in projection and not one too small). Projections too large or too small can possibly be outliers.\n",
    "\n",
    "After selecting one, take note of the experiment id and replace it with the \"...\" in the code below to get the targets for that experiment."
   ]
  },
  {
   "cell_type": "code",
   "execution_count": 16,
   "metadata": {},
   "outputs": [
    {
     "name": "stdout",
     "output_type": "stream",
     "text": [
      "There are 316 projection targets in our area of interest\n"
     ]
    }
   ],
   "source": [
    "# First let's find the targets for a single experiment\n",
    "\n",
    "sample_experiment = 506426778 # your experiment number here\n",
    "\n",
    "unionizes = mcc.get_structure_unionizes(experiment_ids=[sample_experiment],\n",
    "                                        # Since we are looking at projection targets, we set \"is_injection\" to False\n",
    "                                       is_injection = False,\n",
    "                                        # Look at the summary structure level\n",
    "                                        structure_ids = summary_structure_ids,\n",
    "                                       # both hemispheres\n",
    "                                       hemisphere_ids = [3])\n",
    "\n",
    "# How many projection targets are there in our area of interest?\n",
    "\n",
    "print('There are', len(unionizes), 'projection targets in our area of interest')"
   ]
  },
  {
   "cell_type": "markdown",
   "metadata": {},
   "source": [
    "\"Unionizes\" has information about our projection targets in a DataFrame. Let's look at it."
   ]
  },
  {
   "cell_type": "code",
   "execution_count": 18,
   "metadata": {},
   "outputs": [
    {
     "data": {
      "text/html": [
       "<div>\n",
       "<style>\n",
       "    .dataframe thead tr:only-child th {\n",
       "        text-align: right;\n",
       "    }\n",
       "\n",
       "    .dataframe thead th {\n",
       "        text-align: left;\n",
       "    }\n",
       "\n",
       "    .dataframe tbody tr th {\n",
       "        vertical-align: top;\n",
       "    }\n",
       "</style>\n",
       "<table border=\"1\" class=\"dataframe\">\n",
       "  <thead>\n",
       "    <tr style=\"text-align: right;\">\n",
       "      <th></th>\n",
       "      <th>hemisphere_id</th>\n",
       "      <th>id</th>\n",
       "      <th>is_injection</th>\n",
       "      <th>max_voxel_density</th>\n",
       "      <th>max_voxel_x</th>\n",
       "      <th>max_voxel_y</th>\n",
       "      <th>max_voxel_z</th>\n",
       "      <th>normalized_projection_volume</th>\n",
       "      <th>projection_density</th>\n",
       "      <th>projection_energy</th>\n",
       "      <th>projection_intensity</th>\n",
       "      <th>projection_volume</th>\n",
       "      <th>experiment_id</th>\n",
       "      <th>structure_id</th>\n",
       "      <th>sum_pixel_intensity</th>\n",
       "      <th>sum_pixels</th>\n",
       "      <th>sum_projection_pixel_intensity</th>\n",
       "      <th>sum_projection_pixels</th>\n",
       "      <th>volume</th>\n",
       "    </tr>\n",
       "  </thead>\n",
       "  <tbody>\n",
       "    <tr>\n",
       "      <th>0</th>\n",
       "      <td>3</td>\n",
       "      <td>634628083</td>\n",
       "      <td>False</td>\n",
       "      <td>0.128290</td>\n",
       "      <td>10140</td>\n",
       "      <td>4480</td>\n",
       "      <td>8520</td>\n",
       "      <td>0.000135</td>\n",
       "      <td>0.000030</td>\n",
       "      <td>0.003406</td>\n",
       "      <td>114.463563</td>\n",
       "      <td>0.000044</td>\n",
       "      <td>506426778</td>\n",
       "      <td>1049</td>\n",
       "      <td>4.158112e+11</td>\n",
       "      <td>1.203539e+09</td>\n",
       "      <td>4.099250e+06</td>\n",
       "      <td>3.581271e+04</td>\n",
       "      <td>1.474336</td>\n",
       "    </tr>\n",
       "    <tr>\n",
       "      <th>1</th>\n",
       "      <td>3</td>\n",
       "      <td>634628023</td>\n",
       "      <td>False</td>\n",
       "      <td>0.028278</td>\n",
       "      <td>11830</td>\n",
       "      <td>7170</td>\n",
       "      <td>4650</td>\n",
       "      <td>0.000005</td>\n",
       "      <td>0.000002</td>\n",
       "      <td>0.000232</td>\n",
       "      <td>115.756532</td>\n",
       "      <td>0.000002</td>\n",
       "      <td>506426778</td>\n",
       "      <td>978</td>\n",
       "      <td>1.025037e+11</td>\n",
       "      <td>6.369246e+08</td>\n",
       "      <td>1.479016e+05</td>\n",
       "      <td>1.277695e+03</td>\n",
       "      <td>0.780233</td>\n",
       "    </tr>\n",
       "    <tr>\n",
       "      <th>2</th>\n",
       "      <td>3</td>\n",
       "      <td>634627299</td>\n",
       "      <td>False</td>\n",
       "      <td>0.481413</td>\n",
       "      <td>3930</td>\n",
       "      <td>6530</td>\n",
       "      <td>6550</td>\n",
       "      <td>0.021386</td>\n",
       "      <td>0.002077</td>\n",
       "      <td>1.907588</td>\n",
       "      <td>918.337714</td>\n",
       "      <td>0.006932</td>\n",
       "      <td>506426778</td>\n",
       "      <td>342</td>\n",
       "      <td>1.022649e+12</td>\n",
       "      <td>2.724401e+09</td>\n",
       "      <td>5.197034e+09</td>\n",
       "      <td>5.659175e+06</td>\n",
       "      <td>3.337391</td>\n",
       "    </tr>\n",
       "    <tr>\n",
       "      <th>3</th>\n",
       "      <td>3</td>\n",
       "      <td>634627178</td>\n",
       "      <td>False</td>\n",
       "      <td>0.674536</td>\n",
       "      <td>6240</td>\n",
       "      <td>4770</td>\n",
       "      <td>5980</td>\n",
       "      <td>0.010746</td>\n",
       "      <td>0.034837</td>\n",
       "      <td>67.967108</td>\n",
       "      <td>1950.990406</td>\n",
       "      <td>0.003483</td>\n",
       "      <td>506426778</td>\n",
       "      <td>189</td>\n",
       "      <td>3.894985e+10</td>\n",
       "      <td>8.162460e+07</td>\n",
       "      <td>5.547788e+09</td>\n",
       "      <td>2.843575e+06</td>\n",
       "      <td>0.099990</td>\n",
       "    </tr>\n",
       "    <tr>\n",
       "      <th>4</th>\n",
       "      <td>3</td>\n",
       "      <td>634628070</td>\n",
       "      <td>False</td>\n",
       "      <td>0.179755</td>\n",
       "      <td>6470</td>\n",
       "      <td>5350</td>\n",
       "      <td>7880</td>\n",
       "      <td>0.000048</td>\n",
       "      <td>0.000033</td>\n",
       "      <td>0.016865</td>\n",
       "      <td>505.784286</td>\n",
       "      <td>0.000016</td>\n",
       "      <td>506426778</td>\n",
       "      <td>1031</td>\n",
       "      <td>5.496943e+10</td>\n",
       "      <td>3.812202e+08</td>\n",
       "      <td>6.429110e+06</td>\n",
       "      <td>1.271117e+04</td>\n",
       "      <td>0.466995</td>\n",
       "    </tr>\n",
       "  </tbody>\n",
       "</table>\n",
       "</div>"
      ],
      "text/plain": [
       "   hemisphere_id         id  is_injection  max_voxel_density  max_voxel_x  \\\n",
       "0              3  634628083         False           0.128290        10140   \n",
       "1              3  634628023         False           0.028278        11830   \n",
       "2              3  634627299         False           0.481413         3930   \n",
       "3              3  634627178         False           0.674536         6240   \n",
       "4              3  634628070         False           0.179755         6470   \n",
       "\n",
       "   max_voxel_y  max_voxel_z  normalized_projection_volume  projection_density  \\\n",
       "0         4480         8520                      0.000135            0.000030   \n",
       "1         7170         4650                      0.000005            0.000002   \n",
       "2         6530         6550                      0.021386            0.002077   \n",
       "3         4770         5980                      0.010746            0.034837   \n",
       "4         5350         7880                      0.000048            0.000033   \n",
       "\n",
       "   projection_energy  projection_intensity  projection_volume  experiment_id  \\\n",
       "0           0.003406            114.463563           0.000044      506426778   \n",
       "1           0.000232            115.756532           0.000002      506426778   \n",
       "2           1.907588            918.337714           0.006932      506426778   \n",
       "3          67.967108           1950.990406           0.003483      506426778   \n",
       "4           0.016865            505.784286           0.000016      506426778   \n",
       "\n",
       "   structure_id  sum_pixel_intensity    sum_pixels  \\\n",
       "0          1049         4.158112e+11  1.203539e+09   \n",
       "1           978         1.025037e+11  6.369246e+08   \n",
       "2           342         1.022649e+12  2.724401e+09   \n",
       "3           189         3.894985e+10  8.162460e+07   \n",
       "4          1031         5.496943e+10  3.812202e+08   \n",
       "\n",
       "   sum_projection_pixel_intensity  sum_projection_pixels    volume  \n",
       "0                    4.099250e+06           3.581271e+04  1.474336  \n",
       "1                    1.479016e+05           1.277695e+03  0.780233  \n",
       "2                    5.197034e+09           5.659175e+06  3.337391  \n",
       "3                    5.547788e+09           2.843575e+06  0.099990  \n",
       "4                    6.429110e+06           1.271117e+04  0.466995  "
      ]
     },
     "execution_count": 18,
     "metadata": {},
     "output_type": "execute_result"
    }
   ],
   "source": [
    "# Run this cell\n",
    "\n",
    "unionizes.head()"
   ]
  },
  {
   "cell_type": "markdown",
   "metadata": {},
   "source": [
    "Instead of looking at a single experiment, you can also obtain all of the informaation for a given set of experiments. For example, we can find all the projection information (e.g. densities, volume, intensity, etc.) for all injections into Subiculum for wild type mice.\n",
    "\n",
    "To do thisl, we map grab the experiment ids from the list of experiments and use 'transgenic_line' equals None to get only information about wild type mice. Then we use **mcc.get_structure_unionizes** with the set of experiments that include the structures that the subiculum maps to when it is injected."
   ]
  },
  {
   "cell_type": "code",
   "execution_count": 22,
   "metadata": {},
   "outputs": [
    {
     "name": "stdout",
     "output_type": "stream",
     "text": [
      "number of injections in wild type mice:  5\n",
      "length of unionize results:  1580\n"
     ]
    }
   ],
   "source": [
    "# Run the cell below\n",
    "\n",
    "experiment_set = [exp['id'] for exp in experiments if exp['transgenic_line'] == None]\n",
    "print('number of injections in wild type mice: ', len(experiment_set))\n",
    "unionizes_set = mcc.get_structure_unionizes(experiment_set,\n",
    "                                               is_injection = False,\n",
    "                                                # Look at the summary structure level\n",
    "                                                structure_ids = summary_structure_ids,\n",
    "                                               # both hemispheres\n",
    "                                               hemisphere_ids = [3])\n",
    "print('length of unionize results: ', len(unionizes_set))"
   ]
  },
  {
   "cell_type": "markdown",
   "metadata": {},
   "source": [
    "## Question 2:"
   ]
  },
  {
   "cell_type": "markdown",
   "metadata": {},
   "source": [
    "We have now gathered all the information needed to do statistical and data analysis. Our **unionizes_set** DataFrame consists of a list of structures where the Subiculum projects to when it is injected. Some of the columns in this DataFrame that we will be analyzing are:\n",
    "\n",
    "* projection_density\n",
    "* projection_volume\n",
    "* structure_id"
   ]
  },
  {
   "cell_type": "code",
   "execution_count": 23,
   "metadata": {},
   "outputs": [
    {
     "data": {
      "text/html": [
       "<div>\n",
       "<style>\n",
       "    .dataframe thead tr:only-child th {\n",
       "        text-align: right;\n",
       "    }\n",
       "\n",
       "    .dataframe thead th {\n",
       "        text-align: left;\n",
       "    }\n",
       "\n",
       "    .dataframe tbody tr th {\n",
       "        vertical-align: top;\n",
       "    }\n",
       "</style>\n",
       "<table border=\"1\" class=\"dataframe\">\n",
       "  <thead>\n",
       "    <tr style=\"text-align: right;\">\n",
       "      <th></th>\n",
       "      <th>hemisphere_id</th>\n",
       "      <th>id</th>\n",
       "      <th>is_injection</th>\n",
       "      <th>max_voxel_density</th>\n",
       "      <th>max_voxel_x</th>\n",
       "      <th>max_voxel_y</th>\n",
       "      <th>max_voxel_z</th>\n",
       "      <th>normalized_projection_volume</th>\n",
       "      <th>projection_density</th>\n",
       "      <th>projection_energy</th>\n",
       "      <th>projection_intensity</th>\n",
       "      <th>projection_volume</th>\n",
       "      <th>experiment_id</th>\n",
       "      <th>structure_id</th>\n",
       "      <th>sum_pixel_intensity</th>\n",
       "      <th>sum_pixels</th>\n",
       "      <th>sum_projection_pixel_intensity</th>\n",
       "      <th>sum_projection_pixels</th>\n",
       "      <th>volume</th>\n",
       "    </tr>\n",
       "  </thead>\n",
       "  <tbody>\n",
       "    <tr>\n",
       "      <th>0</th>\n",
       "      <td>3</td>\n",
       "      <td>633605728</td>\n",
       "      <td>False</td>\n",
       "      <td>0.193167</td>\n",
       "      <td>9470</td>\n",
       "      <td>3920</td>\n",
       "      <td>5290</td>\n",
       "      <td>0.000026</td>\n",
       "      <td>0.000527</td>\n",
       "      <td>0.318564</td>\n",
       "      <td>604.301425</td>\n",
       "      <td>0.000009</td>\n",
       "      <td>126523791</td>\n",
       "      <td>606826663</td>\n",
       "      <td>1.841678e+09</td>\n",
       "      <td>14549400.0</td>\n",
       "      <td>4.634915e+06</td>\n",
       "      <td>7669.872070</td>\n",
       "      <td>0.017823</td>\n",
       "    </tr>\n",
       "    <tr>\n",
       "      <th>1</th>\n",
       "      <td>3</td>\n",
       "      <td>633605799</td>\n",
       "      <td>False</td>\n",
       "      <td>0.086906</td>\n",
       "      <td>4910</td>\n",
       "      <td>6350</td>\n",
       "      <td>6260</td>\n",
       "      <td>0.000022</td>\n",
       "      <td>0.000076</td>\n",
       "      <td>0.067015</td>\n",
       "      <td>881.583070</td>\n",
       "      <td>0.000008</td>\n",
       "      <td>126523791</td>\n",
       "      <td>263</td>\n",
       "      <td>3.100086e+10</td>\n",
       "      <td>83300400.0</td>\n",
       "      <td>5.582362e+06</td>\n",
       "      <td>6332.201945</td>\n",
       "      <td>0.102043</td>\n",
       "    </tr>\n",
       "    <tr>\n",
       "      <th>2</th>\n",
       "      <td>3</td>\n",
       "      <td>633605766</td>\n",
       "      <td>False</td>\n",
       "      <td>0.808735</td>\n",
       "      <td>12600</td>\n",
       "      <td>6580</td>\n",
       "      <td>5720</td>\n",
       "      <td>0.001495</td>\n",
       "      <td>0.012171</td>\n",
       "      <td>21.415034</td>\n",
       "      <td>1759.549603</td>\n",
       "      <td>0.000537</td>\n",
       "      <td>126523791</td>\n",
       "      <td>222</td>\n",
       "      <td>4.974770e+09</td>\n",
       "      <td>35991000.0</td>\n",
       "      <td>7.707485e+08</td>\n",
       "      <td>438037.372070</td>\n",
       "      <td>0.044089</td>\n",
       "    </tr>\n",
       "    <tr>\n",
       "      <th>3</th>\n",
       "      <td>3</td>\n",
       "      <td>633606462</td>\n",
       "      <td>False</td>\n",
       "      <td>0.482966</td>\n",
       "      <td>5800</td>\n",
       "      <td>2630</td>\n",
       "      <td>6040</td>\n",
       "      <td>0.000477</td>\n",
       "      <td>0.000276</td>\n",
       "      <td>0.711739</td>\n",
       "      <td>2581.095593</td>\n",
       "      <td>0.000171</td>\n",
       "      <td>126523791</td>\n",
       "      <td>250</td>\n",
       "      <td>1.161209e+11</td>\n",
       "      <td>507241792.0</td>\n",
       "      <td>3.610235e+08</td>\n",
       "      <td>139872.199219</td>\n",
       "      <td>0.621371</td>\n",
       "    </tr>\n",
       "    <tr>\n",
       "      <th>4</th>\n",
       "      <td>3</td>\n",
       "      <td>633606412</td>\n",
       "      <td>False</td>\n",
       "      <td>0.129691</td>\n",
       "      <td>12610</td>\n",
       "      <td>6380</td>\n",
       "      <td>7260</td>\n",
       "      <td>0.000047</td>\n",
       "      <td>0.000014</td>\n",
       "      <td>0.010358</td>\n",
       "      <td>747.404721</td>\n",
       "      <td>0.000017</td>\n",
       "      <td>126523791</td>\n",
       "      <td>1098</td>\n",
       "      <td>2.049413e+11</td>\n",
       "      <td>994647616.0</td>\n",
       "      <td>1.030250e+07</td>\n",
       "      <td>13784.360352</td>\n",
       "      <td>1.218443</td>\n",
       "    </tr>\n",
       "  </tbody>\n",
       "</table>\n",
       "</div>"
      ],
      "text/plain": [
       "   hemisphere_id         id  is_injection  max_voxel_density  max_voxel_x  \\\n",
       "0              3  633605728         False           0.193167         9470   \n",
       "1              3  633605799         False           0.086906         4910   \n",
       "2              3  633605766         False           0.808735        12600   \n",
       "3              3  633606462         False           0.482966         5800   \n",
       "4              3  633606412         False           0.129691        12610   \n",
       "\n",
       "   max_voxel_y  max_voxel_z  normalized_projection_volume  projection_density  \\\n",
       "0         3920         5290                      0.000026            0.000527   \n",
       "1         6350         6260                      0.000022            0.000076   \n",
       "2         6580         5720                      0.001495            0.012171   \n",
       "3         2630         6040                      0.000477            0.000276   \n",
       "4         6380         7260                      0.000047            0.000014   \n",
       "\n",
       "   projection_energy  projection_intensity  projection_volume  experiment_id  \\\n",
       "0           0.318564            604.301425           0.000009      126523791   \n",
       "1           0.067015            881.583070           0.000008      126523791   \n",
       "2          21.415034           1759.549603           0.000537      126523791   \n",
       "3           0.711739           2581.095593           0.000171      126523791   \n",
       "4           0.010358            747.404721           0.000017      126523791   \n",
       "\n",
       "   structure_id  sum_pixel_intensity   sum_pixels  \\\n",
       "0     606826663         1.841678e+09   14549400.0   \n",
       "1           263         3.100086e+10   83300400.0   \n",
       "2           222         4.974770e+09   35991000.0   \n",
       "3           250         1.161209e+11  507241792.0   \n",
       "4          1098         2.049413e+11  994647616.0   \n",
       "\n",
       "   sum_projection_pixel_intensity  sum_projection_pixels    volume  \n",
       "0                    4.634915e+06            7669.872070  0.017823  \n",
       "1                    5.582362e+06            6332.201945  0.102043  \n",
       "2                    7.707485e+08          438037.372070  0.044089  \n",
       "3                    3.610235e+08          139872.199219  0.621371  \n",
       "4                    1.030250e+07           13784.360352  1.218443  "
      ]
     },
     "execution_count": 23,
     "metadata": {},
     "output_type": "execute_result"
    }
   ],
   "source": [
    "# Run this cell\n",
    "\n",
    "unionizes_set.head()"
   ]
  },
  {
   "cell_type": "markdown",
   "metadata": {},
   "source": [
    "## Question 2a:"
   ]
  },
  {
   "cell_type": "markdown",
   "metadata": {},
   "source": [
    "Let's check to see which structure has the largest projection density. \n",
    "\n",
    "**Hint:** To do this, we want use the **sort_values** function with the correct column label and order (ascending/descending). Then get the first structure id."
   ]
  },
  {
   "cell_type": "code",
   "execution_count": 24,
   "metadata": {},
   "outputs": [
    {
     "data": {
      "text/plain": [
       "491"
      ]
     },
     "execution_count": 24,
     "metadata": {},
     "output_type": "execute_result"
    }
   ],
   "source": [
    "index = unionizes_set.sort_values('projection_density', ascending=False)['structure_id'].values[0]\n",
    "index"
   ]
  },
  {
   "cell_type": "code",
   "execution_count": 25,
   "metadata": {},
   "outputs": [
    {
     "data": {
      "text/plain": [
       "'Medial mammillary nucleus'"
      ]
     },
     "execution_count": 25,
     "metadata": {},
     "output_type": "execute_result"
    }
   ],
   "source": [
    "# Run this cell\n",
    "\n",
    "name_map = structure_tree.get_name_map()\n",
    "name_map[index]"
   ]
  },
  {
   "cell_type": "markdown",
   "metadata": {},
   "source": [
    "## Question 2b:"
   ]
  },
  {
   "cell_type": "markdown",
   "metadata": {},
   "source": [
    "Now that we know the structure id and name of where the highest projection density is, let's get a subset of that data. Select the structure ids that are equal to number we found in the previous question. Fill the code below."
   ]
  },
  {
   "cell_type": "code",
   "execution_count": 28,
   "metadata": {},
   "outputs": [
    {
     "data": {
      "text/html": [
       "<div>\n",
       "<style>\n",
       "    .dataframe thead tr:only-child th {\n",
       "        text-align: right;\n",
       "    }\n",
       "\n",
       "    .dataframe thead th {\n",
       "        text-align: left;\n",
       "    }\n",
       "\n",
       "    .dataframe tbody tr th {\n",
       "        vertical-align: top;\n",
       "    }\n",
       "</style>\n",
       "<table border=\"1\" class=\"dataframe\">\n",
       "  <thead>\n",
       "    <tr style=\"text-align: right;\">\n",
       "      <th></th>\n",
       "      <th>hemisphere_id</th>\n",
       "      <th>id</th>\n",
       "      <th>is_injection</th>\n",
       "      <th>max_voxel_density</th>\n",
       "      <th>max_voxel_x</th>\n",
       "      <th>max_voxel_y</th>\n",
       "      <th>max_voxel_z</th>\n",
       "      <th>normalized_projection_volume</th>\n",
       "      <th>projection_density</th>\n",
       "      <th>projection_energy</th>\n",
       "      <th>projection_intensity</th>\n",
       "      <th>projection_volume</th>\n",
       "      <th>experiment_id</th>\n",
       "      <th>structure_id</th>\n",
       "      <th>sum_pixel_intensity</th>\n",
       "      <th>sum_pixels</th>\n",
       "      <th>sum_projection_pixel_intensity</th>\n",
       "      <th>sum_projection_pixels</th>\n",
       "      <th>volume</th>\n",
       "    </tr>\n",
       "  </thead>\n",
       "  <tbody>\n",
       "    <tr>\n",
       "      <th>73</th>\n",
       "      <td>3</td>\n",
       "      <td>633605954</td>\n",
       "      <td>False</td>\n",
       "      <td>1.00000</td>\n",
       "      <td>8090</td>\n",
       "      <td>5860</td>\n",
       "      <td>5300</td>\n",
       "      <td>0.153744</td>\n",
       "      <td>0.092688</td>\n",
       "      <td>507.527245</td>\n",
       "      <td>5475.634588</td>\n",
       "      <td>0.055196</td>\n",
       "      <td>126523791</td>\n",
       "      <td>491</td>\n",
       "      <td>3.957517e+11</td>\n",
       "      <td>486122392.0</td>\n",
       "      <td>2.467204e+11</td>\n",
       "      <td>4.505786e+07</td>\n",
       "      <td>0.5955</td>\n",
       "    </tr>\n",
       "    <tr>\n",
       "      <th>441</th>\n",
       "      <td>3</td>\n",
       "      <td>645407479</td>\n",
       "      <td>False</td>\n",
       "      <td>0.60012</td>\n",
       "      <td>8190</td>\n",
       "      <td>6270</td>\n",
       "      <td>5810</td>\n",
       "      <td>0.835991</td>\n",
       "      <td>0.040425</td>\n",
       "      <td>48.220957</td>\n",
       "      <td>1192.838340</td>\n",
       "      <td>0.024073</td>\n",
       "      <td>640285199</td>\n",
       "      <td>491</td>\n",
       "      <td>2.027541e+11</td>\n",
       "      <td>486122392.0</td>\n",
       "      <td>2.344129e+10</td>\n",
       "      <td>1.965169e+07</td>\n",
       "      <td>0.5955</td>\n",
       "    </tr>\n",
       "    <tr>\n",
       "      <th>910</th>\n",
       "      <td>3</td>\n",
       "      <td>633558206</td>\n",
       "      <td>False</td>\n",
       "      <td>1.00000</td>\n",
       "      <td>8240</td>\n",
       "      <td>6230</td>\n",
       "      <td>5300</td>\n",
       "      <td>0.298778</td>\n",
       "      <td>0.248148</td>\n",
       "      <td>545.671184</td>\n",
       "      <td>2198.970868</td>\n",
       "      <td>0.147772</td>\n",
       "      <td>127222723</td>\n",
       "      <td>491</td>\n",
       "      <td>3.662006e+11</td>\n",
       "      <td>486122392.0</td>\n",
       "      <td>2.652630e+11</td>\n",
       "      <td>1.206305e+08</td>\n",
       "      <td>0.5955</td>\n",
       "    </tr>\n",
       "    <tr>\n",
       "      <th>1206</th>\n",
       "      <td>3</td>\n",
       "      <td>628260905</td>\n",
       "      <td>False</td>\n",
       "      <td>1.00000</td>\n",
       "      <td>8120</td>\n",
       "      <td>6310</td>\n",
       "      <td>5250</td>\n",
       "      <td>1.667512</td>\n",
       "      <td>0.349938</td>\n",
       "      <td>934.721490</td>\n",
       "      <td>2671.104317</td>\n",
       "      <td>0.208388</td>\n",
       "      <td>152994878</td>\n",
       "      <td>491</td>\n",
       "      <td>5.253763e+11</td>\n",
       "      <td>486122392.0</td>\n",
       "      <td>4.543890e+11</td>\n",
       "      <td>1.701128e+08</td>\n",
       "      <td>0.5955</td>\n",
       "    </tr>\n",
       "    <tr>\n",
       "      <th>1360</th>\n",
       "      <td>3</td>\n",
       "      <td>633830886</td>\n",
       "      <td>False</td>\n",
       "      <td>1.00000</td>\n",
       "      <td>8240</td>\n",
       "      <td>5970</td>\n",
       "      <td>5350</td>\n",
       "      <td>0.834899</td>\n",
       "      <td>0.446652</td>\n",
       "      <td>2746.234767</td>\n",
       "      <td>6148.483279</td>\n",
       "      <td>0.265981</td>\n",
       "      <td>127795906</td>\n",
       "      <td>491</td>\n",
       "      <td>1.434483e+12</td>\n",
       "      <td>486122392.0</td>\n",
       "      <td>1.335006e+12</td>\n",
       "      <td>2.171277e+08</td>\n",
       "      <td>0.5955</td>\n",
       "    </tr>\n",
       "  </tbody>\n",
       "</table>\n",
       "</div>"
      ],
      "text/plain": [
       "      hemisphere_id         id  is_injection  max_voxel_density  max_voxel_x  \\\n",
       "73                3  633605954         False            1.00000         8090   \n",
       "441               3  645407479         False            0.60012         8190   \n",
       "910               3  633558206         False            1.00000         8240   \n",
       "1206              3  628260905         False            1.00000         8120   \n",
       "1360              3  633830886         False            1.00000         8240   \n",
       "\n",
       "      max_voxel_y  max_voxel_z  normalized_projection_volume  \\\n",
       "73           5860         5300                      0.153744   \n",
       "441          6270         5810                      0.835991   \n",
       "910          6230         5300                      0.298778   \n",
       "1206         6310         5250                      1.667512   \n",
       "1360         5970         5350                      0.834899   \n",
       "\n",
       "      projection_density  projection_energy  projection_intensity  \\\n",
       "73              0.092688         507.527245           5475.634588   \n",
       "441             0.040425          48.220957           1192.838340   \n",
       "910             0.248148         545.671184           2198.970868   \n",
       "1206            0.349938         934.721490           2671.104317   \n",
       "1360            0.446652        2746.234767           6148.483279   \n",
       "\n",
       "      projection_volume  experiment_id  structure_id  sum_pixel_intensity  \\\n",
       "73             0.055196      126523791           491         3.957517e+11   \n",
       "441            0.024073      640285199           491         2.027541e+11   \n",
       "910            0.147772      127222723           491         3.662006e+11   \n",
       "1206           0.208388      152994878           491         5.253763e+11   \n",
       "1360           0.265981      127795906           491         1.434483e+12   \n",
       "\n",
       "       sum_pixels  sum_projection_pixel_intensity  sum_projection_pixels  \\\n",
       "73    486122392.0                    2.467204e+11           4.505786e+07   \n",
       "441   486122392.0                    2.344129e+10           1.965169e+07   \n",
       "910   486122392.0                    2.652630e+11           1.206305e+08   \n",
       "1206  486122392.0                    4.543890e+11           1.701128e+08   \n",
       "1360  486122392.0                    1.335006e+12           2.171277e+08   \n",
       "\n",
       "      volume  \n",
       "73    0.5955  \n",
       "441   0.5955  \n",
       "910   0.5955  \n",
       "1206  0.5955  \n",
       "1360  0.5955  "
      ]
     },
     "execution_count": 28,
     "metadata": {},
     "output_type": "execute_result"
    }
   ],
   "source": [
    "mmn = unionizes_set[unionizes_set['structure_id'] == 491]\n",
    "mmn"
   ]
  },
  {
   "cell_type": "markdown",
   "metadata": {},
   "source": [
    "## Question 2c:"
   ]
  },
  {
   "cell_type": "markdown",
   "metadata": {},
   "source": [
    "Do you think there is a correlation between projection density and projection volume? In the first cell, create a scatterplot of projection density versus volume from our DataFrame above. In the next cell, calculate the correlation coefficient using np.corrcoef.\n",
    "\n",
    "*Hint:* We want to give plt.scatter and np.corrcoef arrays."
   ]
  },
  {
   "cell_type": "code",
   "execution_count": 29,
   "metadata": {},
   "outputs": [
    {
     "data": {
      "image/png": "[encoded data removed]",
      "text/plain": [
       "<matplotlib.figure.Figure at 0x1120d8ac8>"
      ]
     },
     "metadata": {},
     "output_type": "display_data"
    }
   ],
   "source": [
    "plt.scatter(mmn['projection_density'], mmn['projection_volume']);"
   ]
  },
  {
   "cell_type": "code",
   "execution_count": 30,
   "metadata": {},
   "outputs": [
    {
     "data": {
      "text/plain": [
       "0.99999999999999989"
      ]
     },
     "execution_count": 30,
     "metadata": {},
     "output_type": "execute_result"
    }
   ],
   "source": [
    "corr = np.corrcoef(mmn['projection_density'], mmn['projection_volume'])[0][1]\n",
    "corr"
   ]
  },
  {
   "cell_type": "markdown",
   "metadata": {},
   "source": [
    "Perfect! Our the correlation between projection density and projection volume is equal to 1! Therefore, projection density is correlated to projection volume!\n",
    "\n",
    "This statement is wrong. This not a good representation of our data because we have very few data points that the correlation coefficient can seem \"biased\". In order to effectively determine whether there is a correlation between projection density and projection volume, we would need more data."
   ]
  },
  {
   "cell_type": "markdown",
   "metadata": {},
   "source": [
    "## Question 2d:"
   ]
  },
  {
   "cell_type": "markdown",
   "metadata": {},
   "source": [
    "Let's observe the distribution of values in the Medial Mammilary Nucleus."
   ]
  },
  {
   "cell_type": "code",
   "execution_count": 31,
   "metadata": {},
   "outputs": [
    {
     "data": {
      "image/png": "[encoded data removed]",
      "text/plain": [
       "<matplotlib.figure.Figure at 0x1120e5048>"
      ]
     },
     "metadata": {},
     "output_type": "display_data"
    }
   ],
   "source": [
    "# Run this cell\n",
    "\n",
    "# Gives us a list of projection_densities in the medial mammilary nucleus\n",
    "proj_dens = mmn['projection_density'].values\n",
    "\n",
    "\n",
    "plt.title('Distribution of Projection Densities at the Medial Mammilary Nucleus')\n",
    "plt.xlabel(\"Projection Density\")\n",
    "sns.kdeplot(proj_dens);"
   ]
  },
  {
   "cell_type": "markdown",
   "metadata": {},
   "source": [
    "Based on this distribution, what do you think the mean, median, and standard deviation is among projection densities at the Medial Mammilary Nuclues? Type your answer in the cell below:"
   ]
  },
  {
   "cell_type": "markdown",
   "metadata": {},
   "source": [
    "*Your Answer Here*"
   ]
  },
  {
   "cell_type": "markdown",
   "metadata": {},
   "source": [
    "## Question 2e:"
   ]
  },
  {
   "cell_type": "markdown",
   "metadata": {},
   "source": [
    "Let's calculate the **mean** of the projection densities at the medial mammillary nucleus."
   ]
  },
  {
   "cell_type": "code",
   "execution_count": 36,
   "metadata": {},
   "outputs": [
    {
     "data": {
      "text/plain": [
       "0.23557054765769622"
      ]
     },
     "execution_count": 36,
     "metadata": {},
     "output_type": "execute_result"
    }
   ],
   "source": [
    "mean = sum(proj_dens) / len(proj_dens)\n",
    "mean"
   ]
  },
  {
   "cell_type": "markdown",
   "metadata": {},
   "source": [
    "## Question 2f:"
   ]
  },
  {
   "cell_type": "markdown",
   "metadata": {},
   "source": [
    "Now find the **standard deviation** of the projection densities at the medial mammillary nucleus.\n",
    "\n",
    "Recall:\n",
    "\n",
    "$$\\sigma = \\sqrt{\\sum_{i=1}^N \\frac{(x-\\mu)^2}{N - 1}}$$\n",
    "\n",
    "* $\\sigma$ = standard deviation\n",
    "* $x$ = data\n",
    "* $\\mu$ = mean\n",
    "* $N$ = number of values"
   ]
  },
  {
   "cell_type": "code",
   "execution_count": 35,
   "metadata": {},
   "outputs": [
    {
     "data": {
      "text/plain": [
       "0.17050709841601444"
      ]
     },
     "execution_count": 35,
     "metadata": {},
     "output_type": "execute_result"
    }
   ],
   "source": [
    "std = np.sqrt(sum((proj_dens - mean)**2) / (len(proj_dens) - 1))\n",
    "std"
   ]
  },
  {
   "cell_type": "markdown",
   "metadata": {},
   "source": [
    "## Question 2g:"
   ]
  },
  {
   "cell_type": "markdown",
   "metadata": {},
   "source": [
    "Find the **median** of the projection densities at the medial mammillary nucleus."
   ]
  },
  {
   "cell_type": "code",
   "execution_count": 37,
   "metadata": {},
   "outputs": [
    {
     "data": {
      "text/plain": [
       "0.24814843696811198"
      ]
     },
     "execution_count": 37,
     "metadata": {},
     "output_type": "execute_result"
    }
   ],
   "source": [
    "median = mmn.sort_values('projection_density', ascending=False)['projection_density'].values[2]\n",
    "median"
   ]
  },
  {
   "cell_type": "markdown",
   "metadata": {},
   "source": [
    "Using our statistical analysis, we can observe the average projection densities at the sites where the subiculum maps to in the 5 injections."
   ]
  },
  {
   "cell_type": "code",
   "execution_count": 38,
   "metadata": {},
   "outputs": [
    {
     "data": {
      "image/png": "[encoded data removed]",
      "text/plain": [
       "<matplotlib.figure.Figure at 0x1120d8a90>"
      ]
     },
     "metadata": {},
     "output_type": "display_data"
    }
   ],
   "source": [
    "# Run this cell\n",
    "\n",
    "# We can combine groupby and mean to find the average projection density across experiments for each summary structure\n",
    "unionizes_set_mean = (unionizes_set.groupby('structure_id', as_index = False)['projection_density'].mean())\n",
    "\n",
    "# Again, add a column with summary structure acronyms so we can interpret the unionizes more easily\n",
    "names = [name_map[strid] for strid in unionizes_set_mean['structure_id']]\n",
    "unionizes_set_mean['structure_name'] = names\n",
    "unionizes_set_mean.sort_values(by = 'projection_density', ascending = False, inplace = True)\n",
    "\n",
    "# Plot the 20 structures with the highest average projection density across all wild type VISp injections\n",
    "unionizes_set_mean[:20].plot('structure_name', 'projection_density', kind='barh')\n",
    "plt.gca().invert_yaxis()\n",
    "plt.title('Average Unionize Data for %i injections'%len(experiment_set));"
   ]
  },
  {
   "cell_type": "code",
   "execution_count": 40,
   "metadata": {},
   "outputs": [
    {
     "data": {
      "text/html": [
       "<div>\n",
       "<style>\n",
       "    .dataframe thead tr:only-child th {\n",
       "        text-align: right;\n",
       "    }\n",
       "\n",
       "    .dataframe thead th {\n",
       "        text-align: left;\n",
       "    }\n",
       "\n",
       "    .dataframe tbody tr th {\n",
       "        vertical-align: top;\n",
       "    }\n",
       "</style>\n",
       "<table border=\"1\" class=\"dataframe\">\n",
       "  <thead>\n",
       "    <tr style=\"text-align: right;\">\n",
       "      <th></th>\n",
       "      <th>mean_projection_density</th>\n",
       "      <th>stdev</th>\n",
       "      <th>structure_name</th>\n",
       "    </tr>\n",
       "  </thead>\n",
       "  <tbody>\n",
       "    <tr>\n",
       "      <th>145</th>\n",
       "      <td>0.235571</td>\n",
       "      <td>0.170507</td>\n",
       "      <td>Medial mammillary nucleus</td>\n",
       "    </tr>\n",
       "    <tr>\n",
       "      <th>282</th>\n",
       "      <td>0.156300</td>\n",
       "      <td>0.164140</td>\n",
       "      <td>Presubiculum</td>\n",
       "    </tr>\n",
       "    <tr>\n",
       "      <th>35</th>\n",
       "      <td>0.137534</td>\n",
       "      <td>0.125943</td>\n",
       "      <td>Anteromedial nucleus</td>\n",
       "    </tr>\n",
       "    <tr>\n",
       "      <th>308</th>\n",
       "      <td>0.136466</td>\n",
       "      <td>0.101008</td>\n",
       "      <td>Perifornical nucleus</td>\n",
       "    </tr>\n",
       "    <tr>\n",
       "      <th>146</th>\n",
       "      <td>0.124839</td>\n",
       "      <td>0.083361</td>\n",
       "      <td>Subiculum</td>\n",
       "    </tr>\n",
       "  </tbody>\n",
       "</table>\n",
       "</div>"
      ],
      "text/plain": [
       "     mean_projection_density     stdev             structure_name\n",
       "145                 0.235571  0.170507  Medial mammillary nucleus\n",
       "282                 0.156300  0.164140               Presubiculum\n",
       "35                  0.137534  0.125943       Anteromedial nucleus\n",
       "308                 0.136466  0.101008       Perifornical nucleus\n",
       "146                 0.124839  0.083361                  Subiculum"
      ]
     },
     "execution_count": 40,
     "metadata": {},
     "output_type": "execute_result"
    }
   ],
   "source": [
    "# look at the data\n",
    "# re-generate means so they are in the same order as standard deviation\n",
    "unionizes_set_mean = (\n",
    "    unionizes_set.groupby('structure_id', as_index = False)[\n",
    "    'projection_density'].mean())\n",
    "\n",
    "# generate a second data frame with standard deviations\n",
    "unionizes_set_std = (\n",
    "    unionizes_set.groupby('structure_id', as_index = False)[\n",
    "    'projection_density'].std())\n",
    "\n",
    "# find names from structure ids\n",
    "names = [name_map[strid] for strid in unionizes_set_mean['structure_id']]\n",
    "\n",
    "# combine names, mean, and standard deviation into one dataframe for easy plotting\n",
    "set_mean_std = pd.DataFrame({'structure_name': names, \n",
    "                            'mean_projection_density': unionizes_set_mean['projection_density'], \n",
    "                            'stdev':  unionizes_set_std['projection_density']\n",
    "                            })\n",
    "\n",
    "# sort the dataframe to get the top 20 values on top\n",
    "set_mean_std.sort_values(by = 'mean_projection_density', ascending = False, inplace = True)\n",
    "\n",
    "set_mean_std.head()"
   ]
  },
  {
   "cell_type": "markdown",
   "metadata": {},
   "source": [
    "Do your results match those in our visualization and the table above?"
   ]
  },
  {
   "cell_type": "code",
   "execution_count": null,
   "metadata": {
    "collapsed": true
   },
   "outputs": [],
   "source": []
  },
  {
   "cell_type": "code",
   "execution_count": null,
   "metadata": {
    "collapsed": true
   },
   "outputs": [],
   "source": []
  },
  {
   "cell_type": "code",
   "execution_count": null,
   "metadata": {
    "collapsed": true
   },
   "outputs": [],
   "source": []
  },
  {
   "cell_type": "code",
   "execution_count": null,
   "metadata": {
    "collapsed": true
   },
   "outputs": [],
   "source": []
  },
  {
   "cell_type": "code",
   "execution_count": null,
   "metadata": {
    "collapsed": true
   },
   "outputs": [],
   "source": []
  },
  {
   "cell_type": "code",
   "execution_count": null,
   "metadata": {
    "collapsed": true
   },
   "outputs": [],
   "source": []
  },
  {
   "cell_type": "code",
   "execution_count": null,
   "metadata": {
    "collapsed": true
   },
   "outputs": [],
   "source": []
  },
  {
   "cell_type": "code",
   "execution_count": null,
   "metadata": {
    "collapsed": true
   },
   "outputs": [],
   "source": []
  },
  {
   "cell_type": "code",
   "execution_count": null,
   "metadata": {
    "collapsed": true
   },
   "outputs": [],
   "source": []
  },
  {
   "cell_type": "code",
   "execution_count": null,
   "metadata": {
    "collapsed": true
   },
   "outputs": [],
   "source": []
  },
  {
   "cell_type": "code",
   "execution_count": null,
   "metadata": {
    "collapsed": true
   },
   "outputs": [],
   "source": []
  },
  {
   "cell_type": "code",
   "execution_count": null,
   "metadata": {
    "collapsed": true
   },
   "outputs": [],
   "source": []
  },
  {
   "cell_type": "code",
   "execution_count": null,
   "metadata": {
    "collapsed": true
   },
   "outputs": [],
   "source": []
  },
  {
   "cell_type": "code",
   "execution_count": null,
   "metadata": {
    "collapsed": true
   },
   "outputs": [],
   "source": []
  },
  {
   "cell_type": "code",
   "execution_count": null,
   "metadata": {
    "collapsed": true
   },
   "outputs": [],
   "source": []
  },
  {
   "cell_type": "code",
   "execution_count": null,
   "metadata": {
    "collapsed": true
   },
   "outputs": [],
   "source": []
  },
  {
   "cell_type": "code",
   "execution_count": null,
   "metadata": {
    "collapsed": true
   },
   "outputs": [],
   "source": []
  },
  {
   "cell_type": "code",
   "execution_count": null,
   "metadata": {
    "collapsed": true
   },
   "outputs": [],
   "source": []
  },
  {
   "cell_type": "code",
   "execution_count": null,
   "metadata": {
    "collapsed": true
   },
   "outputs": [],
   "source": []
  },
  {
   "cell_type": "code",
   "execution_count": null,
   "metadata": {
    "collapsed": true
   },
   "outputs": [],
   "source": []
  },
  {
   "cell_type": "code",
   "execution_count": null,
   "metadata": {
    "collapsed": true
   },
   "outputs": [],
   "source": []
  }
 ],
 "metadata": {
  "kernelspec": {
   "display_name": "Python 3",
   "language": "python",
   "name": "python3"
  },
  "language_info": {
   "codemirror_mode": {
    "name": "ipython",
    "version": 3
   },
   "file_extension": ".py",
   "mimetype": "text/x-python",
   "name": "python",
   "nbconvert_exporter": "python",
   "pygments_lexer": "ipython3",
   "version": "3.7.1"
  }
 },
 "nbformat": 4,
 "nbformat_minor": 2
}
