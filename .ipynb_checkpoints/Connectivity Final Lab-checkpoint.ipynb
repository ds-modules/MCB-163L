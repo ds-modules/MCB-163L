{
 "cells": [
  {
   "cell_type": "markdown",
   "metadata": {},
   "source": [
    "<h1 align=\"center\">Lab 12: Introduction to Allen Brain Connectivity Atlas Tools</h1>\n",
    "<p><center>This notebook will introduce you to the Allen Mouse Brain Connectivity Atlas tools and data.</center></p>\n",
    "<img src='connectivity_website.png' width=\"500px\"/>\n",
    "\n",
    "<h3 align=\"center\">Estimated Duration: 30 mins</h3>\n"
   ]
  },
  {
   "cell_type": "markdown",
   "metadata": {},
   "source": [
    "## Introduction"
   ]
  },
  {
   "cell_type": "markdown",
   "metadata": {},
   "source": [
    "<div style=\"border-left: 3px solid #000; padding: 1px; padding-left: 10px; background: #f0f0ff; \">\n",
    "    \n",
    "The **Allen Brain Institute for Brain Science** is a non-profit research institute that utilizes big data to understand specific aspects of brain function. The insitute has many publicly available atlases online that provide information on gene expression and neural connectivity. The atlas that we will be working with today is the Mouse Brain Connectivity Atlas, defined as \"a brain-wide map of neural projections, including cell class specific data.\" \n",
    "\n",
    "In this part of the lab, we will utilize information from the Mouse Brain Connectivity Atlas to make conclusions regarding structural connectivity and to further explore projection information.\n",
    "</div>"
   ]
  },
  {
   "cell_type": "code",
   "execution_count": 2,
   "metadata": {},
   "outputs": [],
   "source": [
    "# Run this cell\n",
    "import pandas as pd\n",
    "import numpy as np\n",
    "import os\n",
    "import matplotlib.pyplot as plt\n",
    "from allensdk.core.mouse_connectivity_cache import MouseConnectivityCache\n",
    "from allensdk.api.queries.ontologies_api import OntologiesApi\n",
    "\n",
    "%matplotlib inline \n",
    "import seaborn as sns\n",
    "\n",
    "# Activates the API and cache\n",
    "mcc = MouseConnectivityCache()\n",
    "structure_tree = mcc.get_structure_tree()\n"
   ]
  },
  {
   "cell_type": "markdown",
   "metadata": {},
   "source": [
    "<div style=\"border-left: 3px solid #000; padding: 1px; padding-left: 10px; background: #f0f0ff; \">\n",
    "    \n",
    "In this lab, we will obtain specific information about individual structures of the brain and the experiments done on them, information that we will later be able to use to conduct basic statistical analyses and make conclusions regarding connectivity. \n",
    "\n",
    "We will start by running the cell below, which sets up all the variables that will be needed throughout the lab.\n",
    "\n",
    "\n",
    "</div>"
   ]
  },
  {
   "cell_type": "markdown",
   "metadata": {},
   "source": [
    "# Part 1: Mean, Standard Deviation, Median"
   ]
  },
  {
   "cell_type": "markdown",
   "metadata": {},
   "source": [
    "## Part 1.1: Aquiring the Data"
   ]
  },
  {
   "cell_type": "markdown",
   "metadata": {},
   "source": [
    "<div style=\"border-left: 3px solid #000; padding: 1px; padding-left: 10px; background: #f0f0ff; \">\n",
    "\n",
    "Running the cell below, you will obtain the data that we will be using in this lab. This data contains a set of experiments done on the Subiculum (Structure ID: 502) in wild-type mice. You don't need to worry about what these variables mean, but if you would like to learn more, you can go to [Mouse Connectivity](https://allensdk.readthedocs.io/en/latest/_static/examples/nb/mouse_connectivity.html) for reference.\n",
    "\n",
    "</div>"
   ]
  },
  {
   "cell_type": "code",
   "execution_count": 3,
   "metadata": {},
   "outputs": [
    {
     "name": "stderr",
     "output_type": "stream",
     "text": [
      "C:\\Users\\keiko\\Anaconda3\\envs\\discovery\\lib\\site-packages\\allensdk\\api\\cache.py:346: FutureWarning: from_csv is deprecated. Please use read_csv(...) instead. Note that some of the default arguments are different, so please refer to the documentation for from_csv when changing your function calls\n",
      "  data = reader(path)\n"
     ]
    }
   ],
   "source": [
    "summary_structures = structure_tree.get_structures_by_set_id([167587189])\n",
    "summary_structure_ids = [item['id'] for item in summary_structures]\n",
    "\n",
    "experiments = mcc.get_experiments(injection_structure_ids=[502]) \n",
    "experiment_set = [exp['id'] for exp in experiments if exp['transgenic_line'] == None]\n",
    "\n",
    "name_map = structure_tree.get_name_map()\n",
    "\n",
    "unionizes_set = mcc.get_structure_unionizes(experiment_set,\n",
    "                                               is_injection = False,\n",
    "                                                structure_ids = summary_structure_ids,\n",
    "                                               hemisphere_ids = [3])"
   ]
  },
  {
   "cell_type": "markdown",
   "metadata": {},
   "source": [
    "<div style=\"border-left: 3px solid #000; padding: 1px; padding-left: 10px; background: #f0f0ff; \">\n",
    "    \n",
    "We have now gathered all the information needed to do statistical and data analysis. Our **unionizes_set** DataFrame (fancy word for a table) consists of a list of structures where the Subiculum projects to when it is injected. Some of the columns in this DataFrame that we will be analyzing are:\n",
    "\n",
    "* projection_density\n",
    "* structure_id\n",
    "</div>"
   ]
  },
  {
   "cell_type": "markdown",
   "metadata": {},
   "source": [
    "## Part 1.2: Most Projected Structure "
   ]
  },
  {
   "cell_type": "markdown",
   "metadata": {},
   "source": [
    "<div style=\"border-left: 3px solid #000; padding: 1px; padding-left: 10px; background: #f0f0ff; \">\n",
    "Let's check to see which structure has the largest projection density. \n",
    "    \n",
    "To do this, we want use the **sort_values** function with the correct column label (projection density) and order (descending). This will output a DataFrame with projection densities sorted from largest to smallest. Run the cell below and  find the **structure_id** of the first row. Assign this number to **mystery_id** in the next cell.\n",
    "</div>"
   ]
  },
  {
   "cell_type": "code",
   "execution_count": 4,
   "metadata": {},
   "outputs": [
    {
     "data": {
      "text/html": [
       "<div>\n",
       "<style scoped>\n",
       "    .dataframe tbody tr th:only-of-type {\n",
       "        vertical-align: middle;\n",
       "    }\n",
       "\n",
       "    .dataframe tbody tr th {\n",
       "        vertical-align: top;\n",
       "    }\n",
       "\n",
       "    .dataframe thead th {\n",
       "        text-align: right;\n",
       "    }\n",
       "</style>\n",
       "<table border=\"1\" class=\"dataframe\">\n",
       "  <thead>\n",
       "    <tr style=\"text-align: right;\">\n",
       "      <th></th>\n",
       "      <th>hemisphere_id</th>\n",
       "      <th>id</th>\n",
       "      <th>is_injection</th>\n",
       "      <th>max_voxel_density</th>\n",
       "      <th>max_voxel_x</th>\n",
       "      <th>max_voxel_y</th>\n",
       "      <th>max_voxel_z</th>\n",
       "      <th>normalized_projection_volume</th>\n",
       "      <th>projection_density</th>\n",
       "      <th>projection_energy</th>\n",
       "      <th>projection_intensity</th>\n",
       "      <th>projection_volume</th>\n",
       "      <th>experiment_id</th>\n",
       "      <th>structure_id</th>\n",
       "      <th>sum_pixel_intensity</th>\n",
       "      <th>sum_pixels</th>\n",
       "      <th>sum_projection_pixel_intensity</th>\n",
       "      <th>sum_projection_pixels</th>\n",
       "      <th>volume</th>\n",
       "    </tr>\n",
       "  </thead>\n",
       "  <tbody>\n",
       "    <tr>\n",
       "      <th>1280</th>\n",
       "      <td>3</td>\n",
       "      <td>633830886</td>\n",
       "      <td>False</td>\n",
       "      <td>1.0</td>\n",
       "      <td>8240</td>\n",
       "      <td>5970</td>\n",
       "      <td>5350</td>\n",
       "      <td>0.834899</td>\n",
       "      <td>0.446652</td>\n",
       "      <td>2746.234767</td>\n",
       "      <td>6148.483279</td>\n",
       "      <td>0.265981</td>\n",
       "      <td>127795906</td>\n",
       "      <td>491</td>\n",
       "      <td>1.434483e+12</td>\n",
       "      <td>486122392.0</td>\n",
       "      <td>1.335006e+12</td>\n",
       "      <td>2.171277e+08</td>\n",
       "      <td>0.595500</td>\n",
       "    </tr>\n",
       "    <tr>\n",
       "      <th>1206</th>\n",
       "      <td>3</td>\n",
       "      <td>628260905</td>\n",
       "      <td>False</td>\n",
       "      <td>1.0</td>\n",
       "      <td>8120</td>\n",
       "      <td>6310</td>\n",
       "      <td>5250</td>\n",
       "      <td>1.667512</td>\n",
       "      <td>0.349938</td>\n",
       "      <td>934.721490</td>\n",
       "      <td>2671.104317</td>\n",
       "      <td>0.208388</td>\n",
       "      <td>152994878</td>\n",
       "      <td>491</td>\n",
       "      <td>5.253763e+11</td>\n",
       "      <td>486122392.0</td>\n",
       "      <td>4.543890e+11</td>\n",
       "      <td>1.701128e+08</td>\n",
       "      <td>0.595500</td>\n",
       "    </tr>\n",
       "    <tr>\n",
       "      <th>1218</th>\n",
       "      <td>3</td>\n",
       "      <td>628262415</td>\n",
       "      <td>False</td>\n",
       "      <td>1.0</td>\n",
       "      <td>9400</td>\n",
       "      <td>3160</td>\n",
       "      <td>8570</td>\n",
       "      <td>2.809589</td>\n",
       "      <td>0.347421</td>\n",
       "      <td>1038.179280</td>\n",
       "      <td>2988.247471</td>\n",
       "      <td>0.351113</td>\n",
       "      <td>152994878</td>\n",
       "      <td>1084</td>\n",
       "      <td>9.654492e+11</td>\n",
       "      <td>825002240.0</td>\n",
       "      <td>8.565002e+11</td>\n",
       "      <td>2.866229e+08</td>\n",
       "      <td>1.010628</td>\n",
       "    </tr>\n",
       "    <tr>\n",
       "      <th>1018</th>\n",
       "      <td>3</td>\n",
       "      <td>628259926</td>\n",
       "      <td>False</td>\n",
       "      <td>1.0</td>\n",
       "      <td>5890</td>\n",
       "      <td>4470</td>\n",
       "      <td>6740</td>\n",
       "      <td>1.135974</td>\n",
       "      <td>0.313582</td>\n",
       "      <td>553.910062</td>\n",
       "      <td>1766.394501</td>\n",
       "      <td>0.141962</td>\n",
       "      <td>152994878</td>\n",
       "      <td>127</td>\n",
       "      <td>2.682731e+11</td>\n",
       "      <td>369559808.0</td>\n",
       "      <td>2.047029e+11</td>\n",
       "      <td>1.158874e+08</td>\n",
       "      <td>0.452711</td>\n",
       "    </tr>\n",
       "    <tr>\n",
       "      <th>757</th>\n",
       "      <td>3</td>\n",
       "      <td>633558650</td>\n",
       "      <td>False</td>\n",
       "      <td>1.0</td>\n",
       "      <td>9280</td>\n",
       "      <td>3650</td>\n",
       "      <td>8590</td>\n",
       "      <td>0.635794</td>\n",
       "      <td>0.312847</td>\n",
       "      <td>1024.112043</td>\n",
       "      <td>3273.525422</td>\n",
       "      <td>0.314457</td>\n",
       "      <td>127222723</td>\n",
       "      <td>1084</td>\n",
       "      <td>1.001088e+12</td>\n",
       "      <td>820526944.0</td>\n",
       "      <td>8.403115e+11</td>\n",
       "      <td>2.566993e+08</td>\n",
       "      <td>1.005146</td>\n",
       "    </tr>\n",
       "  </tbody>\n",
       "</table>\n",
       "</div>"
      ],
      "text/plain": [
       "      hemisphere_id         id  is_injection  max_voxel_density  max_voxel_x  \\\n",
       "1280              3  633830886         False                1.0         8240   \n",
       "1206              3  628260905         False                1.0         8120   \n",
       "1218              3  628262415         False                1.0         9400   \n",
       "1018              3  628259926         False                1.0         5890   \n",
       "757               3  633558650         False                1.0         9280   \n",
       "\n",
       "      max_voxel_y  max_voxel_z  normalized_projection_volume  \\\n",
       "1280         5970         5350                      0.834899   \n",
       "1206         6310         5250                      1.667512   \n",
       "1218         3160         8570                      2.809589   \n",
       "1018         4470         6740                      1.135974   \n",
       "757          3650         8590                      0.635794   \n",
       "\n",
       "      projection_density  projection_energy  projection_intensity  \\\n",
       "1280            0.446652        2746.234767           6148.483279   \n",
       "1206            0.349938         934.721490           2671.104317   \n",
       "1218            0.347421        1038.179280           2988.247471   \n",
       "1018            0.313582         553.910062           1766.394501   \n",
       "757             0.312847        1024.112043           3273.525422   \n",
       "\n",
       "      projection_volume  experiment_id  structure_id  sum_pixel_intensity  \\\n",
       "1280           0.265981      127795906           491         1.434483e+12   \n",
       "1206           0.208388      152994878           491         5.253763e+11   \n",
       "1218           0.351113      152994878          1084         9.654492e+11   \n",
       "1018           0.141962      152994878           127         2.682731e+11   \n",
       "757            0.314457      127222723          1084         1.001088e+12   \n",
       "\n",
       "       sum_pixels  sum_projection_pixel_intensity  sum_projection_pixels  \\\n",
       "1280  486122392.0                    1.335006e+12           2.171277e+08   \n",
       "1206  486122392.0                    4.543890e+11           1.701128e+08   \n",
       "1218  825002240.0                    8.565002e+11           2.866229e+08   \n",
       "1018  369559808.0                    2.047029e+11           1.158874e+08   \n",
       "757   820526944.0                    8.403115e+11           2.566993e+08   \n",
       "\n",
       "        volume  \n",
       "1280  0.595500  \n",
       "1206  0.595500  \n",
       "1218  1.010628  \n",
       "1018  0.452711  \n",
       "757   1.005146  "
      ]
     },
     "execution_count": 4,
     "metadata": {},
     "output_type": "execute_result"
    }
   ],
   "source": [
    "index = unionizes_set.sort_values('projection_density', ascending=False)\n",
    "index.head()"
   ]
  },
  {
   "cell_type": "code",
   "execution_count": 5,
   "metadata": {},
   "outputs": [],
   "source": [
    "mystery_id = 491"
   ]
  },
  {
   "cell_type": "markdown",
   "metadata": {},
   "source": [
    "<div style=\"border-left: 3px solid #000; padding: 1px; padding-left: 10px; background: #f0f0ff; \">\n",
    "    \n",
    "We can't immediately recognize what structure corresponds to this id. The function **name_map** provides us with the name of the structure that corresponds to the structure id. Run the cell below to find what the structure is!\n",
    "</div>"
   ]
  },
  {
   "cell_type": "code",
   "execution_count": 6,
   "metadata": {},
   "outputs": [
    {
     "data": {
      "text/plain": [
       "'Medial mammillary nucleus'"
      ]
     },
     "execution_count": 6,
     "metadata": {},
     "output_type": "execute_result"
    }
   ],
   "source": [
    "name_map[mystery_id]"
   ]
  },
  {
   "cell_type": "markdown",
   "metadata": {},
   "source": [
    "<div style=\"border-left: 3px solid #000; padding: 1px; padding-left: 10px; background: #f0f0ff; \">\n",
    "    \n",
    "Does our result make sense? Write down in the cell below why or why not. **Hint:** Where should the subiculum project to?\n",
    "</div>"
   ]
  },
  {
   "cell_type": "markdown",
   "metadata": {},
   "source": [
    "*Yes, this makes sense because the subiculum and the medial mammillary nucleus are both part of the papez circuit, in which the subiculum projects to the medial mammillary nucleus.*"
   ]
  },
  {
   "cell_type": "markdown",
   "metadata": {},
   "source": [
    "<div style=\"border-left: 3px solid #000; padding: 1px; padding-left: 10px; background: #f0f0ff; \">\n",
    "Now that we know the structure id and name of where the highest projection density is, let's get a subset of that data. Run the cell below to get a DataFrame of structure ids that are equal to number we found in the previous question.\n",
    "</div>"
   ]
  },
  {
   "cell_type": "code",
   "execution_count": 37,
   "metadata": {},
   "outputs": [
    {
     "data": {
      "text/html": [
       "<div>\n",
       "<style>\n",
       "    .dataframe thead tr:only-child th {\n",
       "        text-align: right;\n",
       "    }\n",
       "\n",
       "    .dataframe thead th {\n",
       "        text-align: left;\n",
       "    }\n",
       "\n",
       "    .dataframe tbody tr th {\n",
       "        vertical-align: top;\n",
       "    }\n",
       "</style>\n",
       "<table border=\"1\" class=\"dataframe\">\n",
       "  <thead>\n",
       "    <tr style=\"text-align: right;\">\n",
       "      <th></th>\n",
       "      <th>hemisphere_id</th>\n",
       "      <th>id</th>\n",
       "      <th>is_injection</th>\n",
       "      <th>max_voxel_density</th>\n",
       "      <th>max_voxel_x</th>\n",
       "      <th>max_voxel_y</th>\n",
       "      <th>max_voxel_z</th>\n",
       "      <th>normalized_projection_volume</th>\n",
       "      <th>projection_density</th>\n",
       "      <th>projection_energy</th>\n",
       "      <th>projection_intensity</th>\n",
       "      <th>projection_volume</th>\n",
       "      <th>experiment_id</th>\n",
       "      <th>structure_id</th>\n",
       "      <th>sum_pixel_intensity</th>\n",
       "      <th>sum_pixels</th>\n",
       "      <th>sum_projection_pixel_intensity</th>\n",
       "      <th>sum_projection_pixels</th>\n",
       "      <th>volume</th>\n",
       "    </tr>\n",
       "  </thead>\n",
       "  <tbody>\n",
       "    <tr>\n",
       "      <th>168</th>\n",
       "      <td>3</td>\n",
       "      <td>633605954</td>\n",
       "      <td>False</td>\n",
       "      <td>1.00000</td>\n",
       "      <td>8090</td>\n",
       "      <td>5860</td>\n",
       "      <td>5300</td>\n",
       "      <td>0.153744</td>\n",
       "      <td>0.092688</td>\n",
       "      <td>507.527245</td>\n",
       "      <td>5475.634588</td>\n",
       "      <td>0.055196</td>\n",
       "      <td>126523791</td>\n",
       "      <td>491</td>\n",
       "      <td>3.957517e+11</td>\n",
       "      <td>486122392.0</td>\n",
       "      <td>2.467204e+11</td>\n",
       "      <td>4.505786e+07</td>\n",
       "      <td>0.5955</td>\n",
       "    </tr>\n",
       "    <tr>\n",
       "      <th>441</th>\n",
       "      <td>3</td>\n",
       "      <td>645407479</td>\n",
       "      <td>False</td>\n",
       "      <td>0.60012</td>\n",
       "      <td>8190</td>\n",
       "      <td>6270</td>\n",
       "      <td>5810</td>\n",
       "      <td>0.835991</td>\n",
       "      <td>0.040425</td>\n",
       "      <td>48.220957</td>\n",
       "      <td>1192.838340</td>\n",
       "      <td>0.024073</td>\n",
       "      <td>640285199</td>\n",
       "      <td>491</td>\n",
       "      <td>2.027541e+11</td>\n",
       "      <td>486122392.0</td>\n",
       "      <td>2.344129e+10</td>\n",
       "      <td>1.965169e+07</td>\n",
       "      <td>0.5955</td>\n",
       "    </tr>\n",
       "    <tr>\n",
       "      <th>671</th>\n",
       "      <td>3</td>\n",
       "      <td>633558206</td>\n",
       "      <td>False</td>\n",
       "      <td>1.00000</td>\n",
       "      <td>8240</td>\n",
       "      <td>6230</td>\n",
       "      <td>5300</td>\n",
       "      <td>0.298778</td>\n",
       "      <td>0.248148</td>\n",
       "      <td>545.671184</td>\n",
       "      <td>2198.970868</td>\n",
       "      <td>0.147772</td>\n",
       "      <td>127222723</td>\n",
       "      <td>491</td>\n",
       "      <td>3.662006e+11</td>\n",
       "      <td>486122392.0</td>\n",
       "      <td>2.652630e+11</td>\n",
       "      <td>1.206305e+08</td>\n",
       "      <td>0.5955</td>\n",
       "    </tr>\n",
       "    <tr>\n",
       "      <th>1206</th>\n",
       "      <td>3</td>\n",
       "      <td>628260905</td>\n",
       "      <td>False</td>\n",
       "      <td>1.00000</td>\n",
       "      <td>8120</td>\n",
       "      <td>6310</td>\n",
       "      <td>5250</td>\n",
       "      <td>1.667512</td>\n",
       "      <td>0.349938</td>\n",
       "      <td>934.721490</td>\n",
       "      <td>2671.104317</td>\n",
       "      <td>0.208388</td>\n",
       "      <td>152994878</td>\n",
       "      <td>491</td>\n",
       "      <td>5.253763e+11</td>\n",
       "      <td>486122392.0</td>\n",
       "      <td>4.543890e+11</td>\n",
       "      <td>1.701128e+08</td>\n",
       "      <td>0.5955</td>\n",
       "    </tr>\n",
       "    <tr>\n",
       "      <th>1280</th>\n",
       "      <td>3</td>\n",
       "      <td>633830886</td>\n",
       "      <td>False</td>\n",
       "      <td>1.00000</td>\n",
       "      <td>8240</td>\n",
       "      <td>5970</td>\n",
       "      <td>5350</td>\n",
       "      <td>0.834899</td>\n",
       "      <td>0.446652</td>\n",
       "      <td>2746.234767</td>\n",
       "      <td>6148.483279</td>\n",
       "      <td>0.265981</td>\n",
       "      <td>127795906</td>\n",
       "      <td>491</td>\n",
       "      <td>1.434483e+12</td>\n",
       "      <td>486122392.0</td>\n",
       "      <td>1.335006e+12</td>\n",
       "      <td>2.171277e+08</td>\n",
       "      <td>0.5955</td>\n",
       "    </tr>\n",
       "  </tbody>\n",
       "</table>\n",
       "</div>"
      ],
      "text/plain": [
       "      hemisphere_id         id  is_injection  max_voxel_density  max_voxel_x  \\\n",
       "168               3  633605954         False            1.00000         8090   \n",
       "441               3  645407479         False            0.60012         8190   \n",
       "671               3  633558206         False            1.00000         8240   \n",
       "1206              3  628260905         False            1.00000         8120   \n",
       "1280              3  633830886         False            1.00000         8240   \n",
       "\n",
       "      max_voxel_y  max_voxel_z  normalized_projection_volume  \\\n",
       "168          5860         5300                      0.153744   \n",
       "441          6270         5810                      0.835991   \n",
       "671          6230         5300                      0.298778   \n",
       "1206         6310         5250                      1.667512   \n",
       "1280         5970         5350                      0.834899   \n",
       "\n",
       "      projection_density  projection_energy  projection_intensity  \\\n",
       "168             0.092688         507.527245           5475.634588   \n",
       "441             0.040425          48.220957           1192.838340   \n",
       "671             0.248148         545.671184           2198.970868   \n",
       "1206            0.349938         934.721490           2671.104317   \n",
       "1280            0.446652        2746.234767           6148.483279   \n",
       "\n",
       "      projection_volume  experiment_id  structure_id  sum_pixel_intensity  \\\n",
       "168            0.055196      126523791           491         3.957517e+11   \n",
       "441            0.024073      640285199           491         2.027541e+11   \n",
       "671            0.147772      127222723           491         3.662006e+11   \n",
       "1206           0.208388      152994878           491         5.253763e+11   \n",
       "1280           0.265981      127795906           491         1.434483e+12   \n",
       "\n",
       "       sum_pixels  sum_projection_pixel_intensity  sum_projection_pixels  \\\n",
       "168   486122392.0                    2.467204e+11           4.505786e+07   \n",
       "441   486122392.0                    2.344129e+10           1.965169e+07   \n",
       "671   486122392.0                    2.652630e+11           1.206305e+08   \n",
       "1206  486122392.0                    4.543890e+11           1.701128e+08   \n",
       "1280  486122392.0                    1.335006e+12           2.171277e+08   \n",
       "\n",
       "      volume  \n",
       "168   0.5955  \n",
       "441   0.5955  \n",
       "671   0.5955  \n",
       "1206  0.5955  \n",
       "1280  0.5955  "
      ]
     },
     "execution_count": 37,
     "metadata": {},
     "output_type": "execute_result"
    }
   ],
   "source": [
    "medial_mammillary = unionizes_set[unionizes_set['structure_id'] == mystery_id]\n",
    "medial_mammillary"
   ]
  },
  {
   "cell_type": "markdown",
   "metadata": {},
   "source": [
    "## Part 1.3: Projection Density Distribution"
   ]
  },
  {
   "cell_type": "markdown",
   "metadata": {},
   "source": [
    "\n",
    "\n",
    "Let's observe the distribution of values in the Medial Mammilary Nucleus. Recall in statistcs the distribution of values in a normal distribution:\n",
    "\n",
    "<img src='normal.png' width=\"400px\"/>\n",
    "*Image from Illinois State University*\n",
    "\n",
    "First, set **proj_dens** to a list of projection density values using **.values**. Then, run the cell to visualize the distribution of projection densities in the medial mammilary nucleus."
   ]
  },
  {
   "cell_type": "code",
   "execution_count": 38,
   "metadata": {},
   "outputs": [
    {
     "data": {
      "image/png": "[encoded data removed]",
      "text/plain": [
       "<matplotlib.figure.Figure at 0x1107b1320>"
      ]
     },
     "metadata": {},
     "output_type": "display_data"
    }
   ],
   "source": [
    "# Gives us a list of projection_densities in the medial mammilary nucleus\n",
    "proj_dens = medial_mammillary['projection_density'].values\n",
    "\n",
    "\n",
    "plt.title('Distribution of Projection Densities at the Medial Mammilary Nucleus')\n",
    "plt.xlabel(\"Projection Density\")\n",
    "sns.kdeplot(proj_dens);"
   ]
  },
  {
   "cell_type": "markdown",
   "metadata": {},
   "source": [
    "<div style=\"border-left: 3px solid #000; padding: 1px; padding-left: 10px; background: #f0f0ff; \">\n",
    "\n",
    "Based on the distribution above, what do you think the values of the mean, median, and standard deviation are? Type your answer in the cell below:\n",
    "</div>"
   ]
  },
  {
   "cell_type": "markdown",
   "metadata": {},
   "source": [
    "*Your Answer Here*"
   ]
  },
  {
   "cell_type": "markdown",
   "metadata": {},
   "source": [
    "## Part 1.4: The Mean, Median and Standard Deviation"
   ]
  },
  {
   "cell_type": "markdown",
   "metadata": {},
   "source": [
    "<div style=\"border-left: 3px solid #000; padding: 1px; padding-left: 10px; background: #f0f0ff; \">\n",
    "\n",
    "Let's calculate the mean of the projection densities from the subicculum to the medial mammillary nucleus. Assign this value to **mean**.\n",
    "\n",
    "**Hint:** Recall the functions **sum** and **len** that allow you to calculate the mean as discussed in the Pre-Lab.\n",
    "</div>"
   ]
  },
  {
   "cell_type": "code",
   "execution_count": 40,
   "metadata": {},
   "outputs": [
    {
     "data": {
      "text/plain": [
       "0.23557054765769622"
      ]
     },
     "execution_count": 40,
     "metadata": {},
     "output_type": "execute_result"
    }
   ],
   "source": [
    "sum_values = sum(proj_dens)\n",
    "num_values = len(proj_dens)\n",
    "mean = sum_values / num_values\n",
    "mean"
   ]
  },
  {
   "cell_type": "markdown",
   "metadata": {},
   "source": [
    "<div style=\"border-left: 3px solid #000; padding: 1px; padding-left: 10px; background: #f0f0ff; \">\n",
    "\n",
    "Given that the number of values is 5, find the **median** of the projection densities from the subiculum to the medial mammillary nucleus. Assign this value to **median**.\n",
    "\n",
    "\n",
    "**Hint:** Recall the function **.sort_values** discussed in the Pre-Lab.\n",
    "</div>"
   ]
  },
  {
   "cell_type": "code",
   "execution_count": 41,
   "metadata": {},
   "outputs": [
    {
     "data": {
      "text/plain": [
       "0.24814843696811198"
      ]
     },
     "execution_count": 41,
     "metadata": {},
     "output_type": "execute_result"
    }
   ],
   "source": [
    "sorted_values = medial_mammillary.sort_values('projection_density', ascending=False)['projection_density'].values\n",
    "median = sorted_values[2]\n",
    "median"
   ]
  },
  {
   "cell_type": "markdown",
   "metadata": {},
   "source": [
    "<div style=\"border-left: 3px solid #000; padding: 1px; padding-left: 10px; background: #f0f0ff; \">\n",
    "\n",
    "Find the **standard deviation** of the projection densities from the subiculum to the medial mammillary nucleus. Assign this value to **standard_dev**.\n",
    "\n",
    "Recall:\n",
    "\n",
    "$$\\sigma = \\sqrt{\\sum_{i=1}^N \\frac{(x-\\mu)^2}{N - 1}}$$\n",
    "\n",
    "* $\\sigma$ = standard deviation\n",
    "* $x$ = data\n",
    "* $\\mu$ = mean\n",
    "* $N$ = number of values\n",
    "</div>"
   ]
  },
  {
   "cell_type": "code",
   "execution_count": 45,
   "metadata": {},
   "outputs": [
    {
     "data": {
      "text/plain": [
       "0.17050709841601444"
      ]
     },
     "execution_count": 45,
     "metadata": {},
     "output_type": "execute_result"
    }
   ],
   "source": [
    "numerator = sum((proj_dens - mean)**2)\n",
    "denominator = len(proj_dens) - 1\n",
    "standard_dev = np.sqrt(numerator / denominator)\n",
    "standard_dev"
   ]
  },
  {
   "cell_type": "markdown",
   "metadata": {},
   "source": [
    "## Part 1.5: Average Projection Densities"
   ]
  },
  {
   "cell_type": "markdown",
   "metadata": {},
   "source": [
    "<div style=\"border-left: 3px solid #000; padding: 1px; padding-left: 10px; background: #f0f0ff; \">\n",
    "    \n",
    "Using our statistical analysis, we can observe the average projection densities at the top 20 sites where the subiculum maps to for the 5 wildtype injections. Run the cell below to visualize a bar chart representation of this.\n",
    "</div>"
   ]
  },
  {
   "cell_type": "code",
   "execution_count": 45,
   "metadata": {},
   "outputs": [
    {
     "data": {
      "image/png": "[encoded data removed]",
      "text/plain": [
       "<Figure size 432x288 with 1 Axes>"
      ]
     },
     "metadata": {
      "needs_background": "light"
     },
     "output_type": "display_data"
    }
   ],
   "source": [
    "# Run this cell\n",
    "\n",
    "# We can combine groupby and mean to find the average projection density across experiments for each summary structure\n",
    "unionizes_set_mean = (unionizes_set.groupby('structure_id', as_index = False)['projection_density'].mean())\n",
    "\n",
    "# Again, add a column with summary structure acronyms so we can interpret the unionizes more easily\n",
    "names = [name_map[strid] for strid in unionizes_set_mean['structure_id']]\n",
    "unionizes_set_mean['structure_name'] = names\n",
    "unionizes_set_mean.sort_values(by = 'projection_density', ascending = False, inplace = True)\n",
    "\n",
    "# Plot the 20 structures with the highest average projection density across all wild type Subiculum injections\n",
    "unionizes_set_mean[:20].plot('structure_name', 'projection_density', kind='barh')\n",
    "plt.gca().invert_yaxis()\n",
    "plt.title('Average Unionize Data for %i injections'%len(experiment_set));"
   ]
  },
  {
   "cell_type": "markdown",
   "metadata": {},
   "source": [
    "<div style=\"border-left: 3px solid #000; padding: 1px; padding-left: 10px; background: #f0f0ff; \">\n",
    "The cell below provides statistics (i.e. mean and standard deviation) of the projection densities from the subiculum to various structures.\n",
    "</div>"
   ]
  },
  {
   "cell_type": "code",
   "execution_count": 46,
   "metadata": {},
   "outputs": [
    {
     "data": {
      "text/html": [
       "<div>\n",
       "<style scoped>\n",
       "    .dataframe tbody tr th:only-of-type {\n",
       "        vertical-align: middle;\n",
       "    }\n",
       "\n",
       "    .dataframe tbody tr th {\n",
       "        vertical-align: top;\n",
       "    }\n",
       "\n",
       "    .dataframe thead th {\n",
       "        text-align: right;\n",
       "    }\n",
       "</style>\n",
       "<table border=\"1\" class=\"dataframe\">\n",
       "  <thead>\n",
       "    <tr style=\"text-align: right;\">\n",
       "      <th></th>\n",
       "      <th>structure_name</th>\n",
       "      <th>mean_projection_density</th>\n",
       "      <th>stdev</th>\n",
       "    </tr>\n",
       "  </thead>\n",
       "  <tbody>\n",
       "    <tr>\n",
       "      <th>145</th>\n",
       "      <td>Medial mammillary nucleus</td>\n",
       "      <td>0.235571</td>\n",
       "      <td>0.170507</td>\n",
       "    </tr>\n",
       "    <tr>\n",
       "      <th>282</th>\n",
       "      <td>Presubiculum</td>\n",
       "      <td>0.156300</td>\n",
       "      <td>0.164140</td>\n",
       "    </tr>\n",
       "    <tr>\n",
       "      <th>35</th>\n",
       "      <td>Anteromedial nucleus</td>\n",
       "      <td>0.137534</td>\n",
       "      <td>0.125943</td>\n",
       "    </tr>\n",
       "    <tr>\n",
       "      <th>308</th>\n",
       "      <td>Perifornical nucleus</td>\n",
       "      <td>0.136466</td>\n",
       "      <td>0.101008</td>\n",
       "    </tr>\n",
       "    <tr>\n",
       "      <th>146</th>\n",
       "      <td>Subiculum</td>\n",
       "      <td>0.124839</td>\n",
       "      <td>0.083361</td>\n",
       "    </tr>\n",
       "  </tbody>\n",
       "</table>\n",
       "</div>"
      ],
      "text/plain": [
       "                structure_name  mean_projection_density     stdev\n",
       "145  Medial mammillary nucleus                 0.235571  0.170507\n",
       "282               Presubiculum                 0.156300  0.164140\n",
       "35        Anteromedial nucleus                 0.137534  0.125943\n",
       "308       Perifornical nucleus                 0.136466  0.101008\n",
       "146                  Subiculum                 0.124839  0.083361"
      ]
     },
     "execution_count": 46,
     "metadata": {},
     "output_type": "execute_result"
    }
   ],
   "source": [
    "# look at the data\n",
    "# re-generate means so they are in the same order as standard deviation\n",
    "unionizes_set_mean = (\n",
    "    unionizes_set.groupby('structure_id', as_index = False)[\n",
    "    'projection_density'].mean())\n",
    "\n",
    "# generate a second data frame with standard deviations\n",
    "unionizes_set_std = (\n",
    "    unionizes_set.groupby('structure_id', as_index = False)[\n",
    "    'projection_density'].std())\n",
    "\n",
    "# find names from structure ids\n",
    "names = [name_map[strid] for strid in unionizes_set_mean['structure_id']]\n",
    "\n",
    "# combine names, mean, and standard deviation into one dataframe for easy plotting\n",
    "set_mean_std = pd.DataFrame({'structure_name': names, \n",
    "                            'mean_projection_density': unionizes_set_mean['projection_density'], \n",
    "                            'stdev':  unionizes_set_std['projection_density']\n",
    "                            })\n",
    "\n",
    "# sort the dataframe to get the top 20 values on top\n",
    "set_mean_std.sort_values(by = 'mean_projection_density', ascending = False, inplace = True)\n",
    "\n",
    "set_mean_std.head()"
   ]
  },
  {
   "cell_type": "markdown",
   "metadata": {},
   "source": [
    "<div style=\"border-left: 3px solid #000; padding: 1px; padding-left: 10px; background: #f0f0ff; \">\n",
    "    \n",
    "Do your results match those in our visualization and the table above? Explain in the cell below.\n",
    "</div>"
   ]
  },
  {
   "cell_type": "markdown",
   "metadata": {},
   "source": [
    "*Your Answer Here*"
   ]
  },
  {
   "cell_type": "markdown",
   "metadata": {
    "collapsed": true
   },
   "source": [
    "# Part 2: Bootstrap"
   ]
  },
  {
   "cell_type": "markdown",
   "metadata": {},
   "source": [
    "## Part 2.1: Aquiring the Data"
   ]
  },
  {
   "cell_type": "markdown",
   "metadata": {},
   "source": [
    "<div style=\"border-left: 3px solid #000; padding: 1px; padding-left: 10px; background: #f0f0ff; \">\n",
    "\n",
    "For this part of the lab, we will apply a technique called boostraping to analyze the probability of a structure being a part of a circuit. We will start off with looking at the Primary Visual Cortex since it has more wildtype injections than the subiculum. \n",
    "\n",
    "The **visual_unionizes_set** consists of all of the structures that the Primary visual area projects to for every experiment done.\n",
    "</div>"
   ]
  },
  {
   "cell_type": "code",
   "execution_count": 48,
   "metadata": {
    "collapsed": true
   },
   "outputs": [],
   "source": [
    "# Run this cell\n",
    "VISp = structure_tree.get_structures_by_name([\"Primary visual area\"])\n",
    "VISp_id = VISp[0]['id']\n",
    "visual_experiments = mcc.get_experiments(injection_structure_ids=[VISp_id]) \n",
    "visual_experiment_set = [exp['id'] for exp in visual_experiments if exp['transgenic_line'] == None]\n",
    "visual_data = pd.DataFrame(visual_experiment_set)\n",
    "\n",
    "visual_unionizes_set = mcc.get_structure_unionizes(visual_experiment_set,\n",
    "                                               is_injection = False,\n",
    "                                                structure_ids = summary_structure_ids,\n",
    "                                               hemisphere_ids = [3])\n",
    "visual_names = [name_map[strid] for strid in visual_unionizes_set['structure_id']]\n",
    "visual_unionizes_set['structure_name'] = visual_names"
   ]
  },
  {
   "cell_type": "code",
   "execution_count": 49,
   "metadata": {},
   "outputs": [
    {
     "data": {
      "text/html": [
       "<div>\n",
       "<style scoped>\n",
       "    .dataframe tbody tr th:only-of-type {\n",
       "        vertical-align: middle;\n",
       "    }\n",
       "\n",
       "    .dataframe tbody tr th {\n",
       "        vertical-align: top;\n",
       "    }\n",
       "\n",
       "    .dataframe thead th {\n",
       "        text-align: right;\n",
       "    }\n",
       "</style>\n",
       "<table border=\"1\" class=\"dataframe\">\n",
       "  <thead>\n",
       "    <tr style=\"text-align: right;\">\n",
       "      <th></th>\n",
       "      <th>hemisphere_id</th>\n",
       "      <th>id</th>\n",
       "      <th>is_injection</th>\n",
       "      <th>max_voxel_density</th>\n",
       "      <th>max_voxel_x</th>\n",
       "      <th>max_voxel_y</th>\n",
       "      <th>max_voxel_z</th>\n",
       "      <th>normalized_projection_volume</th>\n",
       "      <th>projection_density</th>\n",
       "      <th>projection_energy</th>\n",
       "      <th>projection_intensity</th>\n",
       "      <th>projection_volume</th>\n",
       "      <th>experiment_id</th>\n",
       "      <th>structure_id</th>\n",
       "      <th>sum_pixel_intensity</th>\n",
       "      <th>sum_pixels</th>\n",
       "      <th>sum_projection_pixel_intensity</th>\n",
       "      <th>sum_projection_pixels</th>\n",
       "      <th>volume</th>\n",
       "      <th>structure_name</th>\n",
       "    </tr>\n",
       "  </thead>\n",
       "  <tbody>\n",
       "    <tr>\n",
       "      <th>0</th>\n",
       "      <td>3</td>\n",
       "      <td>636132166</td>\n",
       "      <td>False</td>\n",
       "      <td>1.000000</td>\n",
       "      <td>9370</td>\n",
       "      <td>2500</td>\n",
       "      <td>9450</td>\n",
       "      <td>0.105844</td>\n",
       "      <td>0.129473</td>\n",
       "      <td>280.100383</td>\n",
       "      <td>2163.396424</td>\n",
       "      <td>0.070242</td>\n",
       "      <td>307297141</td>\n",
       "      <td>312782574</td>\n",
       "      <td>2.717960e+11</td>\n",
       "      <td>442877400.0</td>\n",
       "      <td>1.240501e+11</td>\n",
       "      <td>5.734045e+07</td>\n",
       "      <td>0.542525</td>\n",
       "      <td>Laterointermediate area</td>\n",
       "    </tr>\n",
       "    <tr>\n",
       "      <th>1</th>\n",
       "      <td>3</td>\n",
       "      <td>636130952</td>\n",
       "      <td>False</td>\n",
       "      <td>0.176642</td>\n",
       "      <td>3690</td>\n",
       "      <td>3470</td>\n",
       "      <td>6460</td>\n",
       "      <td>0.000097</td>\n",
       "      <td>0.000069</td>\n",
       "      <td>0.029395</td>\n",
       "      <td>424.604137</td>\n",
       "      <td>0.000064</td>\n",
       "      <td>307297141</td>\n",
       "      <td>44</td>\n",
       "      <td>1.842736e+11</td>\n",
       "      <td>759889792.0</td>\n",
       "      <td>2.233689e+07</td>\n",
       "      <td>5.260639e+04</td>\n",
       "      <td>0.930865</td>\n",
       "      <td>Infralimbic area</td>\n",
       "    </tr>\n",
       "    <tr>\n",
       "      <th>2</th>\n",
       "      <td>3</td>\n",
       "      <td>636131320</td>\n",
       "      <td>False</td>\n",
       "      <td>0.000000</td>\n",
       "      <td>0</td>\n",
       "      <td>0</td>\n",
       "      <td>0</td>\n",
       "      <td>0.000000</td>\n",
       "      <td>0.000000</td>\n",
       "      <td>0.000000</td>\n",
       "      <td>0.000000</td>\n",
       "      <td>0.000000</td>\n",
       "      <td>307297141</td>\n",
       "      <td>246</td>\n",
       "      <td>7.140429e+09</td>\n",
       "      <td>123998400.0</td>\n",
       "      <td>0.000000e+00</td>\n",
       "      <td>0.000000e+00</td>\n",
       "      <td>0.151898</td>\n",
       "      <td>Midbrain reticular nucleus, retrorubral area</td>\n",
       "    </tr>\n",
       "    <tr>\n",
       "      <th>3</th>\n",
       "      <td>3</td>\n",
       "      <td>636131638</td>\n",
       "      <td>False</td>\n",
       "      <td>0.000000</td>\n",
       "      <td>0</td>\n",
       "      <td>0</td>\n",
       "      <td>0</td>\n",
       "      <td>0.000000</td>\n",
       "      <td>0.000000</td>\n",
       "      <td>0.000000</td>\n",
       "      <td>0.000000</td>\n",
       "      <td>0.000000</td>\n",
       "      <td>307297141</td>\n",
       "      <td>460</td>\n",
       "      <td>5.506341e+08</td>\n",
       "      <td>8535600.0</td>\n",
       "      <td>0.000000e+00</td>\n",
       "      <td>0.000000e+00</td>\n",
       "      <td>0.010456</td>\n",
       "      <td>Midbrain trigeminal nucleus</td>\n",
       "    </tr>\n",
       "    <tr>\n",
       "      <th>4</th>\n",
       "      <td>3</td>\n",
       "      <td>636132128</td>\n",
       "      <td>False</td>\n",
       "      <td>0.000000</td>\n",
       "      <td>0</td>\n",
       "      <td>0</td>\n",
       "      <td>0</td>\n",
       "      <td>0.000000</td>\n",
       "      <td>0.000000</td>\n",
       "      <td>0.000000</td>\n",
       "      <td>0.000000</td>\n",
       "      <td>0.000000</td>\n",
       "      <td>307297141</td>\n",
       "      <td>599626923</td>\n",
       "      <td>4.878733e+08</td>\n",
       "      <td>13030200.0</td>\n",
       "      <td>0.000000e+00</td>\n",
       "      <td>0.000000e+00</td>\n",
       "      <td>0.015962</td>\n",
       "      <td>Subcommissural organ</td>\n",
       "    </tr>\n",
       "  </tbody>\n",
       "</table>\n",
       "</div>"
      ],
      "text/plain": [
       "   hemisphere_id         id  is_injection  max_voxel_density  max_voxel_x  \\\n",
       "0              3  636132166         False           1.000000         9370   \n",
       "1              3  636130952         False           0.176642         3690   \n",
       "2              3  636131320         False           0.000000            0   \n",
       "3              3  636131638         False           0.000000            0   \n",
       "4              3  636132128         False           0.000000            0   \n",
       "\n",
       "   max_voxel_y  max_voxel_z  normalized_projection_volume  projection_density  \\\n",
       "0         2500         9450                      0.105844            0.129473   \n",
       "1         3470         6460                      0.000097            0.000069   \n",
       "2            0            0                      0.000000            0.000000   \n",
       "3            0            0                      0.000000            0.000000   \n",
       "4            0            0                      0.000000            0.000000   \n",
       "\n",
       "   projection_energy  projection_intensity  projection_volume  experiment_id  \\\n",
       "0         280.100383           2163.396424           0.070242      307297141   \n",
       "1           0.029395            424.604137           0.000064      307297141   \n",
       "2           0.000000              0.000000           0.000000      307297141   \n",
       "3           0.000000              0.000000           0.000000      307297141   \n",
       "4           0.000000              0.000000           0.000000      307297141   \n",
       "\n",
       "   structure_id  sum_pixel_intensity   sum_pixels  \\\n",
       "0     312782574         2.717960e+11  442877400.0   \n",
       "1            44         1.842736e+11  759889792.0   \n",
       "2           246         7.140429e+09  123998400.0   \n",
       "3           460         5.506341e+08    8535600.0   \n",
       "4     599626923         4.878733e+08   13030200.0   \n",
       "\n",
       "   sum_projection_pixel_intensity  sum_projection_pixels    volume  \\\n",
       "0                    1.240501e+11           5.734045e+07  0.542525   \n",
       "1                    2.233689e+07           5.260639e+04  0.930865   \n",
       "2                    0.000000e+00           0.000000e+00  0.151898   \n",
       "3                    0.000000e+00           0.000000e+00  0.010456   \n",
       "4                    0.000000e+00           0.000000e+00  0.015962   \n",
       "\n",
       "                                 structure_name  \n",
       "0                       Laterointermediate area  \n",
       "1                              Infralimbic area  \n",
       "2  Midbrain reticular nucleus, retrorubral area  \n",
       "3                   Midbrain trigeminal nucleus  \n",
       "4                          Subcommissural organ  "
      ]
     },
     "execution_count": 49,
     "metadata": {},
     "output_type": "execute_result"
    }
   ],
   "source": [
    "visual_unionizes_set.head()"
   ]
  },
  {
   "cell_type": "markdown",
   "metadata": {},
   "source": [
    "## Part 2.2: Medial Mammilary Nucleus DataFrame"
   ]
  },
  {
   "cell_type": "markdown",
   "metadata": {},
   "source": [
    "<div style=\"border-left: 3px solid #000; padding: 1px; padding-left: 10px; background: #f0f0ff; \">\n",
    "\n",
    "In the next cell, we want to obtain the projection densities for the different injections to the Primary visual area that project to the medial mammillary nucleus. We do this in the first line and we name it **mmn** to differentiate from the variable **medial_mammillary**. Next, we arrange the projection densities from biggest to smallest. Run the cell below which will create a dataframe that we will be able to use for the bootstrapping. \n",
    "</div>"
   ]
  },
  {
   "cell_type": "code",
   "execution_count": 50,
   "metadata": {},
   "outputs": [
    {
     "data": {
      "text/html": [
       "<div>\n",
       "<style scoped>\n",
       "    .dataframe tbody tr th:only-of-type {\n",
       "        vertical-align: middle;\n",
       "    }\n",
       "\n",
       "    .dataframe tbody tr th {\n",
       "        vertical-align: top;\n",
       "    }\n",
       "\n",
       "    .dataframe thead th {\n",
       "        text-align: right;\n",
       "    }\n",
       "</style>\n",
       "<table border=\"1\" class=\"dataframe\">\n",
       "  <thead>\n",
       "    <tr style=\"text-align: right;\">\n",
       "      <th></th>\n",
       "      <th>Medial mammillary nucleus</th>\n",
       "    </tr>\n",
       "  </thead>\n",
       "  <tbody>\n",
       "    <tr>\n",
       "      <th>0</th>\n",
       "      <td>0.353852</td>\n",
       "    </tr>\n",
       "    <tr>\n",
       "      <th>1</th>\n",
       "      <td>0.055486</td>\n",
       "    </tr>\n",
       "    <tr>\n",
       "      <th>2</th>\n",
       "      <td>0.000699</td>\n",
       "    </tr>\n",
       "    <tr>\n",
       "      <th>3</th>\n",
       "      <td>0.000188</td>\n",
       "    </tr>\n",
       "    <tr>\n",
       "      <th>4</th>\n",
       "      <td>0.000160</td>\n",
       "    </tr>\n",
       "  </tbody>\n",
       "</table>\n",
       "</div>"
      ],
      "text/plain": [
       "   Medial mammillary nucleus\n",
       "0                   0.353852\n",
       "1                   0.055486\n",
       "2                   0.000699\n",
       "3                   0.000188\n",
       "4                   0.000160"
      ]
     },
     "execution_count": 50,
     "metadata": {},
     "output_type": "execute_result"
    }
   ],
   "source": [
    "# Run this cell\n",
    "mmn = visual_unionizes_set[visual_unionizes_set['structure_name'] == 'Medial mammillary nucleus']\n",
    "mmn = mmn['projection_density'].sort_values(ascending=False).values\n",
    "mmn_data = {'Medial mammillary nucleus': mmn}\n",
    "mmn_dataframe = pd.DataFrame(data=mmn_data)\n",
    "mmn_dataframe.head()"
   ]
  },
  {
   "cell_type": "markdown",
   "metadata": {},
   "source": [
    "## Part 2.3: Bootstrapping"
   ]
  },
  {
   "cell_type": "markdown",
   "metadata": {},
   "source": [
    "<div style=\"border-left: 3px solid #000; padding: 1px; padding-left: 10px; background: #f0f0ff; \">\n",
    "    \n",
    "The essence of bootstrapping is reliant on a population. In this case, the population is going to be that of the neurons that project to the medial mammillary nucleus from the primary visual area. We obtained a sample, the 33 wildtype experiments from the primary visual area. \n",
    "\n",
    "Fill in the code below that will sample with replacement from the population 5000 times using the mean as our test statistic. This will make sure that our number is big enough to be accurate and representative of the population.\n",
    "\n",
    "**Hint:** Recall the bootstrapping method used in the Pre-Lab. The **sample** function takes in **n** samples with replacement (**replace** = True or False). In addition, **np.mean** gives us the mean.\n",
    "</div>"
   ]
  },
  {
   "cell_type": "code",
   "execution_count": 51,
   "metadata": {
    "collapsed": true
   },
   "outputs": [],
   "source": [
    "# Run this cell\n",
    "means = []\n",
    "for i in np.arange(5000):\n",
    "    resampled = mmn_dataframe.sample(n = 33, replace = True)\n",
    "    mean = resampled.mean()\n",
    "    means = np.append(means, mean)"
   ]
  },
  {
   "cell_type": "markdown",
   "metadata": {},
   "source": [
    "<div style=\"border-left: 3px solid #000; padding: 1px; padding-left: 10px; background: #f0f0ff; \">\n",
    "    \n",
    "We will now graph the resampled means in the histogram below. \n",
    "</div>"
   ]
  },
  {
   "cell_type": "code",
   "execution_count": 21,
   "metadata": {},
   "outputs": [
    {
     "data": {
      "image/png": "[encoded data removed]",
      "text/plain": [
       "<Figure size 432x288 with 1 Axes>"
      ]
     },
     "metadata": {
      "needs_background": "light"
     },
     "output_type": "display_data"
    }
   ],
   "source": [
    "# Run this cell\n",
    "mmn = {'Projection Density Means': means}\n",
    "mmn_means = pd.DataFrame(data=mmn).hist()"
   ]
  },
  {
   "cell_type": "markdown",
   "metadata": {
    "collapsed": true
   },
   "source": [
    "<div style=\"border-left: 3px solid #000; padding: 1px; padding-left: 10px; background: #f0f0ff; \">\n",
    "    \n",
    "Now, let's overlay the mean projection density from the subiculum to the medial mammillary nucleus onto the histogram shown above.\n",
    "</div>"
   ]
  },
  {
   "cell_type": "code",
   "execution_count": 52,
   "metadata": {},
   "outputs": [
    {
     "data": {
      "image/png": "[encoded data removed]",
      "text/plain": [
       "<Figure size 432x288 with 1 Axes>"
      ]
     },
     "metadata": {
      "needs_background": "light"
     },
     "output_type": "display_data"
    }
   ],
   "source": [
    "# Run this cell\n",
    "mmn = {'Projection Density Means': means}\n",
    "mmn_means = pd.DataFrame(data=mmn).hist()\n",
    "plt.axvline(sub_mean, color = 'k');"
   ]
  },
  {
   "cell_type": "markdown",
   "metadata": {
    "collapsed": true
   },
   "source": [
    "<div style=\"border-left: 3px solid #000; padding: 1px; padding-left: 10px; background: #f0f0ff; \">\n",
    "    \n",
    "What can we see about the difference between the mean projection densities from primary visual area to the medial mammillary nucleus and the mean projection density from the subiculum to the medial mammillary nucleus?\n",
    "</div>"
   ]
  },
  {
   "cell_type": "markdown",
   "metadata": {
    "collapsed": true
   },
   "source": [
    "*From the histogram above, it is obvious that the mean projection density from the subiculum and the one from the primary visual area do not come from the same underlying population distribution, due to the sharp contrast in numbers.*"
   ]
  },
  {
   "cell_type": "markdown",
   "metadata": {
    "collapsed": true
   },
   "source": [
    "<div style=\"border-left: 3px solid #000; padding: 1px; padding-left: 10px; background: #f0f0ff; \">\n",
    "  \n",
    "<h3 align=\"center\">What does this mean in terms of connectivity?</h3>\n",
    "\n",
    "Since the subiculum and the medial mammillary nucleus are a part of the Papez Circuit, it makes sense why the mean projection density is large. In contrast, the mean projection density for the primary visual cortex to the medial mammillary nucleus is low, making this structure not a part of the Papez Circuit (even though there is still minimal connectivity).\n",
    "</div>"
   ]
  },
  {
   "cell_type": "markdown",
   "metadata": {},
   "source": [
    "## Part 2.4: 95% Confidence Interval"
   ]
  },
  {
   "cell_type": "markdown",
   "metadata": {},
   "source": [
    "<div style=\"border-left: 3px solid #000; padding: 1px; padding-left: 10px; background: #f0f0ff; \">\n",
    "\n",
    "Using the bootstrapped sample means calculated above, we will create a 95% confidence interval using the **quantile** function. This will give us an interval with the true mean of all projection densities from the primary visual area to the medial mammillary nucleus.\n",
    "\n",
    "In the cell below, fill in the numbers that will give us a 95% confidence interval using the **quantile** function.\n",
    "</div>"
   ]
  },
  {
   "cell_type": "code",
   "execution_count": 23,
   "metadata": {},
   "outputs": [
    {
     "data": {
      "text/plain": [
       "[4.3363696195206334e-05, 0.03557631785235254]"
      ]
     },
     "execution_count": 23,
     "metadata": {},
     "output_type": "execute_result"
    }
   ],
   "source": [
    "mmn = {'Projection Density Means': means}\n",
    "mmn_means = pd.DataFrame(data=mmn)\n",
    "percentile = list(mmn_means.quantile([0.025, 0.975])['Projection Density Means'])\n",
    "percentile"
   ]
  },
  {
   "cell_type": "code",
   "execution_count": 55,
   "metadata": {},
   "outputs": [
    {
     "data": {
      "image/png": "[encoded data removed]",
      "text/plain": [
       "<Figure size 432x288 with 1 Axes>"
      ]
     },
     "metadata": {
      "needs_background": "light"
     },
     "output_type": "display_data"
    }
   ],
   "source": [
    "# Run this cell\n",
    "mmn = {'Projection Density Means': means}\n",
    "mmn_means = pd.DataFrame(data=mmn).hist()\n",
    "plt.hlines(y=0, xmin=percentile[0], xmax=percentile[1], linewidth=10, color = 'y');"
   ]
  },
  {
   "cell_type": "markdown",
   "metadata": {},
   "source": [
    "## Part 2.5: The P-Value"
   ]
  },
  {
   "cell_type": "markdown",
   "metadata": {},
   "source": [
    "<div style=\"border-left: 3px solid #000; padding: 1px; padding-left: 10px; background: #f0f0ff; \">\n",
    "    \n",
    "Below, we will calculate the ***p-value*** using the above distribution and a random mean named **mystery_mean** that will simulate a mean projection density obtained from one of the injections into the primary visual area that projects to the medial mammillary nucleus. We must come up with a null hypothesis and an alternative hypothesis in order to use the p-value.\n",
    "\n",
    "***Null hypothesis:*** The mystery_mean comes from the same underlying distribution as that of the medial mammilary nucleus. \n",
    "\n",
    "***Alternative hypothesis:*** The mystery_mean does not come from the same underlying distribution, and any correlation is purely due to chance. \n",
    "\n",
    "</div>"
   ]
  },
  {
   "cell_type": "code",
   "execution_count": 25,
   "metadata": {
    "collapsed": true
   },
   "outputs": [],
   "source": [
    "# Run this cell\n",
    "mystery_mean = 0.0434\n",
    "mmn = {'Projection Density Means': means}\n",
    "mmn_means = pd.DataFrame(data=mmn)"
   ]
  },
  {
   "cell_type": "code",
   "execution_count": 26,
   "metadata": {},
   "outputs": [
    {
     "data": {
      "text/plain": [
       "<matplotlib.lines.Line2D at 0x1a2ee3b358>"
      ]
     },
     "execution_count": 26,
     "metadata": {},
     "output_type": "execute_result"
    },
    {
     "data": {
      "image/png": "[encoded data removed]",
      "text/plain": [
       "<Figure size 432x288 with 1 Axes>"
      ]
     },
     "metadata": {
      "needs_background": "light"
     },
     "output_type": "display_data"
    }
   ],
   "source": [
    "mmn_means.hist()\n",
    "plt.axvline(mystery_mean, color = 'k')"
   ]
  },
  {
   "cell_type": "code",
   "execution_count": 27,
   "metadata": {},
   "outputs": [
    {
     "data": {
      "text/plain": [
       "0.0102"
      ]
     },
     "execution_count": 27,
     "metadata": {},
     "output_type": "execute_result"
    }
   ],
   "source": [
    "p_value = np.average(mmn_means > mystery_mean)\n",
    "p_value"
   ]
  },
  {
   "cell_type": "markdown",
   "metadata": {},
   "source": [
    "<div style=\"border-left: 3px solid #000; padding: 1px; padding-left: 10px; background: #f0f0ff; \">\n",
    "    \n",
    "Based on the p-value calculated above, do we reject or fail to reject the null hypothesis? Explain.\n",
    "</div>"
   ]
  },
  {
   "cell_type": "markdown",
   "metadata": {},
   "source": [
    "*Since the p_value is less than 0.05 (chosen by convention), we can reject the null hypothesis. This means that our mystery_mean did not come from the same underlying distribution as the means from the primary visual area, so we can assume that our mystery_mean is not coming from the primary visual area.*"
   ]
  },
  {
   "cell_type": "markdown",
   "metadata": {
    "collapsed": true
   },
   "source": [
    "## Conclusion"
   ]
  },
  {
   "cell_type": "markdown",
   "metadata": {
    "collapsed": true
   },
   "source": [
    "<div style=\"border-left: 3px solid #000; padding: 1px; padding-left: 10px; background: #f0f0ff; \">\n",
    "    \n",
    "We hoped that this lab served as a good introductions to the tools and the statistical analysis used in neuroinformatics. Neuroinformatics is a growing field and every year, new techniques are being invented for collection of large neural information. Because of this, it is important to know how to analyze and manipulate this data. \n",
    "\n",
    "If you liked the lab and would like to further your data science techniques, below are some introductary courses that may interest you:\n",
    "\n",
    "***Data 8: The Foundations of Data Science***\n",
    "\n",
    "***Data 100: Principles and Techniques of Data Science***\n",
    "\n",
    "***Prob 140: Probability for Data Science***\n",
    "</div>"
   ]
  },
  {
   "cell_type": "code",
   "execution_count": null,
   "metadata": {
    "collapsed": true
   },
   "outputs": [],
   "source": []
  }
 ],
 "metadata": {
  "kernelspec": {
   "display_name": "Python 3",
   "language": "python",
   "name": "python3"
  },
  "language_info": {
   "codemirror_mode": {
    "name": "ipython",
    "version": 3
   },
   "file_extension": ".py",
   "mimetype": "text/x-python",
   "name": "python",
   "nbconvert_exporter": "python",
   "pygments_lexer": "ipython3",
   "version": "3.6.5"
  }
 },
 "nbformat": 4,
 "nbformat_minor": 2
}
