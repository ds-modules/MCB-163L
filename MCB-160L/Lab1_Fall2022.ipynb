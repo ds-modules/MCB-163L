{
 "cells": [
  {
   "cell_type": "markdown",
   "metadata": {
    "collapsed": true,
    "pycharm": {
     "name": "#%% md\n"
    }
   },
   "source": [
    "## MCB 160L Lab 1 - Introduction to statistics\n",
    "Jupyter is an interactive, web-based python interface. Jupyter is a great tool for data-science, since you can iteratively develop your project and debug your code without having to continually reload data into memory. To run each cell of the jupyter notebook, use  $\\texttt{ctrl+enter}$. In addition to jupyter, three python packages are used in this notebook: numpy (to perform computations + sampling), pandas (data format and statistic methods), and matplotlib (to plot the data) \n",
    "\n",
    "\n",
    "### Learning Objectives\n",
    "- Use descriptive statistics to quantify the basic features of data\n",
    "- Use bootstrapping to determine the probability of a given observation in a non-normal dataset\n",
    "- Understand what a p-value means with respect to the tested hypothesis.\n"
   ]
  },
  {
   "cell_type": "code",
   "execution_count": 17,
   "metadata": {},
   "outputs": [],
   "source": [
    "# RUN THIS CELL to import python packages \n",
    "\n",
    "import numpy as np\n",
    "import matplotlib.pyplot as plt \n",
    "import pandas as pd"
   ]
  },
  {
   "cell_type": "markdown",
   "metadata": {},
   "source": [
    "### Step 1: Load in and clean the data"
   ]
  },
  {
   "cell_type": "code",
   "execution_count": 18,
   "metadata": {
    "pycharm": {
     "name": "#%%\n"
    },
    "scrolled": true
   },
   "outputs": [
    {
     "name": "stdout",
     "output_type": "stream",
     "text": [
      "Sample of dementia data:\n",
      "               ID M/F Hand   Age  Educ  SES  MMSE  CDR    eTIV   nWBV    ASF\n",
      "5   OAS1_0003_MR1   F    R  73.0   4.0  3.0  27.0  0.5  1454.0  0.708  1.207\n",
      "27  OAS1_0015_MR1   M    R  76.0   2.0  NaN  28.0  0.5  1738.0  0.719  1.010\n",
      "29  OAS1_0016_MR1   M    R  82.0   2.0  4.0  27.0  0.5  1477.0  0.739  1.188\n",
      "39  OAS1_0021_MR1   F    R  80.0   3.0  3.0  23.0  0.5  1794.0  0.765  0.978\n",
      "41  OAS1_0022_MR1   F    R  69.0   2.0  4.0  23.0  0.5  1447.0  0.757  1.213\n",
      "43  OAS1_0023_MR1   M    R  82.0   2.0  3.0  27.0  0.5  1420.0  0.710  1.236\n",
      "51  OAS1_0028_MR1   F    R  86.0   2.0  4.0  27.0  1.0  1449.0  0.738  1.211\n",
      "57  OAS1_0031_MR1   M    R  88.0   1.0  4.0  26.0  1.0  1419.0  0.674  1.236\n",
      "65  OAS1_0035_MR1   F    R  84.0   3.0  2.0  28.0  1.0  1402.0  0.695  1.252\n",
      "71  OAS1_0039_MR1   M    R  70.0   4.0  3.0  29.0  0.5  1463.0  0.772  1.200 \n",
      "\n",
      "Sample of healthy data:\n",
      "               ID M/F Hand   Age  Educ  SES  MMSE  CDR    eTIV   nWBV    ASF\n",
      "1   OAS1_0001_MR1   F    R  74.0   2.0  3.0  29.0  0.0  1344.0  0.743  1.306\n",
      "3   OAS1_0002_MR1   F    R  55.0   4.0  1.0  29.0  0.0  1147.0  0.810  1.531\n",
      "17  OAS1_0010_MR1   M    R  74.0   5.0  2.0  30.0  0.0  1636.0  0.689  1.073\n",
      "19  OAS1_0011_MR1   F    R  52.0   3.0  2.0  30.0  0.0  1321.0  0.827  1.329\n",
      "23  OAS1_0013_MR1   F    R  81.0   5.0  2.0  30.0  0.0  1664.0  0.679  1.055\n",
      "33  OAS1_0018_MR1   M    R  39.0   3.0  4.0  28.0  0.0  1636.0  0.813  1.073\n",
      "35  OAS1_0019_MR1   F    R  89.0   5.0  1.0  30.0  0.0  1536.0  0.715  1.142\n",
      "37  OAS1_0020_MR1   F    R  48.0   5.0  2.0  29.0  0.0  1326.0  0.785  1.323\n",
      "47  OAS1_0026_MR1   F    R  58.0   5.0  1.0  30.0  0.0  1235.0  0.820  1.421\n",
      "55  OAS1_0030_MR1   F    R  65.0   2.0  3.0  29.0  0.0  1392.0  0.764  1.261 \n",
      "\n"
     ]
    }
   ],
   "source": [
    "# Step 1: Load in + clean the data\n",
    "\n",
    "# load in data for the entire population\n",
    "data = (pd.read_csv(\"oasis_cross-sectional.csv\")\n",
    "        .dropna(axis=0, subset=[\"CDR\", \"nWBV\"])) # drop the participants without a clinical dementia rating\n",
    "\n",
    "# isolate participants with nonzero clinical dementia rating\n",
    "dementia_data = data.loc[data.CDR > 0, :]\n",
    "\n",
    "# isolate general population (healthy participants)\n",
    "healthy_data = data.loc[data.CDR == 0.0, :]\n",
    "\n",
    "#print some of the data\n",
    "print(\"Sample of dementia data:\")\n",
    "print(dementia_data.head(10), \"\\n\")\n",
    "\n",
    "print(\"Sample of healthy data:\")\n",
    "print(healthy_data.head(10), \"\\n\")\n"
   ]
  },
  {
   "cell_type": "markdown",
   "metadata": {},
   "source": [
    "We are only seeing the first 10 rows in each data set (that is what the .head(10) function does). Just looking at the data, which group seems to have the higher brain volume (nWBV)?\n",
    "\n"
   ]
  },
  {
   "cell_type": "markdown",
   "metadata": {},
   "source": [
    "### Step 2: Basic descriptive statistics\n",
    "\n",
    "Calculate the **mean** of the normalized whole-brain volume (nWBV) for healthy subjects. Apply the <code>mean</code> method to the column \"nWBV\" in the healthy_data and print the value. Note that the <code>.3f</code> in the print line tells Python to include only three places after the decimal point. Note that this mean() method is a function that is specific to this data type)"
   ]
  },
  {
   "cell_type": "code",
   "execution_count": 19,
   "metadata": {},
   "outputs": [
    {
     "name": "stdout",
     "output_type": "stream",
     "text": [
      "Mean nWBV for the healthy population is 0.769\n"
     ]
    }
   ],
   "source": [
    "#Mean healthy patients (fill in the column name)\n",
    "\n",
    "mean_healthy = healthy_data.nWBV.mean()\n",
    "print(\"Mean nWBV for the healthy population is %.3f\" % (mean_healthy))"
   ]
  },
  {
   "cell_type": "markdown",
   "metadata": {},
   "source": [
    "Calculate the **mean** normalized whole-brain volume for dementia patients following the same pattern as above."
   ]
  },
  {
   "cell_type": "code",
   "execution_count": 26,
   "metadata": {
    "scrolled": true
   },
   "outputs": [],
   "source": [
    "#Mean dementia patients\n",
    "\n",
    "mean_dementia = \n",
    "print..."
   ]
  },
  {
   "cell_type": "markdown",
   "metadata": {},
   "source": [
    "Now calculate and print the **median** of the nWBV for the healthy and dementia patients. Hint: Method syntax for median operation is **.median()** so copy what you did above, but replace \"mean\" with \"median\"."
   ]
  },
  {
   "cell_type": "code",
   "execution_count": 30,
   "metadata": {
    "scrolled": true
   },
   "outputs": [
    {
     "name": "stdout",
     "output_type": "stream",
     "text": [
      "0.773\n",
      "0.7224999999999999\n"
     ]
    }
   ],
   "source": [
    "# Median"
   ]
  },
  {
   "cell_type": "markdown",
   "metadata": {},
   "source": [
    "Calculate and print the **standard deviation (std)** of the nWBV for the healthy and dementia patients. Method syntax is **.std()**"
   ]
  },
  {
   "cell_type": "code",
   "execution_count": 31,
   "metadata": {},
   "outputs": [
    {
     "name": "stdout",
     "output_type": "stream",
     "text": [
      "0.045873599981197645\n",
      "0.035801359942568854\n"
     ]
    }
   ],
   "source": [
    "#Standard deviation"
   ]
  },
  {
   "cell_type": "markdown",
   "metadata": {},
   "source": [
    "Determine and print the **minimum value (min)** of the nWBV for the healthy and dementia patients. Method syntax is **.min()** "
   ]
  },
  {
   "cell_type": "code",
   "execution_count": 21,
   "metadata": {},
   "outputs": [
    {
     "name": "stdout",
     "output_type": "stream",
     "text": [
      "0.645\n"
     ]
    }
   ],
   "source": [
    "# Minimum value"
   ]
  },
  {
   "cell_type": "markdown",
   "metadata": {},
   "source": [
    "Determine and print the **maximum value (max)** of the nWBV for the healthy and dementia patients. Method syntax is **.max()**"
   ]
  },
  {
   "cell_type": "code",
   "execution_count": 22,
   "metadata": {},
   "outputs": [
    {
     "name": "stdout",
     "output_type": "stream",
     "text": [
      "0.847\n"
     ]
    }
   ],
   "source": [
    "# Maximum value"
   ]
  },
  {
   "cell_type": "markdown",
   "metadata": {},
   "source": [
    "Calculate and print the **range** of the nWBV values for healthy and dementia patients. Hint: Subtract your minimum value, which you determined before, from the maximum value. Hint: the “-“ operator is used to subtract the two numbers in python."
   ]
  },
  {
   "cell_type": "code",
   "execution_count": 32,
   "metadata": {
    "scrolled": true
   },
   "outputs": [
    {
     "name": "stdout",
     "output_type": "stream",
     "text": [
      "0.20199999999999996\n"
     ]
    }
   ],
   "source": [
    "# Range of values"
   ]
  },
  {
   "cell_type": "markdown",
   "metadata": {},
   "source": [
    "What is the **sample size** for the healthy and dementia patients? You can use the length function <code>len()</code> like we did in the introductory notebooks, or you can use the count method <code>.count()</code> like we have been doing with the mean and median calculations. "
   ]
  },
  {
   "cell_type": "code",
   "execution_count": 34,
   "metadata": {},
   "outputs": [
    {
     "name": "stdout",
     "output_type": "stream",
     "text": [
      "135\n"
     ]
    }
   ],
   "source": [
    "# Sample size"
   ]
  },
  {
   "cell_type": "code",
   "execution_count": 35,
   "metadata": {
    "pycharm": {
     "name": "#%%\n"
    }
   },
   "outputs": [
    {
     "data": {
      "text/plain": [
       "Text(0, 0.5, 'Count')"
      ]
     },
     "execution_count": 35,
     "metadata": {},
     "output_type": "execute_result"
    },
    {
     "data": {
      "image/png": "[encoded data removed]",
      "text/plain": [
       "<Figure size 1000x800 with 1 Axes>"
      ]
     },
     "metadata": {},
     "output_type": "display_data"
    }
   ],
   "source": [
    "# Plot the data as a histogram (just run this cell)\n",
    "fig, ax = plt.subplots(1, figsize=(10,8))\n",
    "ax.hist(healthy_data[\"nWBV\"].values, rwidth=0.5, alpha=0.75, bins=10)\n",
    "ax.hist(dementia_data[\"nWBV\"].values, rwidth=0.5, alpha=0.75, bins=10)\n",
    "\n",
    "ax.set_title(\"Distribution of nWBV for Dementia vs Healthy Population\")\n",
    "ax.set_xlabel(\"nWBV (A.U.)\")\n",
    "ax.set_ylabel(\"Count\")"
   ]
  },
  {
   "cell_type": "markdown",
   "metadata": {},
   "source": [
    "### Step 3: Bootstrapping\n",
    "\n",
    "The goal of this section is to write a bootstrap analysis to see how likely it would be to see the observed mean nWBV of the dementia data set be the same or lower than the value in this data set if you instead choose the sampled values from the full dataset at random (without replacement). Parts of the analysis code are already written, fill in the required section to complete the analysis. You will interpret the results in the lab worksheet."
   ]
  },
  {
   "cell_type": "code",
   "execution_count": 36,
   "metadata": {},
   "outputs": [],
   "source": [
    "# In this cell, we will use a **for loop** to get the resamples and find the mean of each one. \n",
    "# We will resample 3000 times. \n",
    "# Make sure to keep lines written after the **for loop** indented to ensure they are run 3000 times\n",
    "\n",
    "n_iter = 3000 # number of interations (times) you will resample at random\n",
    "n_samples = dementia_data.nWBV.count() # number of data points to sample each time (sample size of dementia data set) )\n",
    "full_dataset_nWBV =  pd.concat([healthy_data.nWBV, dementia_data.nWBV]) # list of nWBV values from the full data set, both healthy and dementia populations\n",
    "\n",
    "bootstrap_means = np.zeros([n_iter,]) # initialize a that will hold the bootstrap means as a array of all zeros\n",
    "\n",
    "for i in range(n_iter):\n",
    "    \n",
    "    # pick out a list n_samples from the full data set for this time thru the loop (with replacement)\n",
    "    # hint: the syntax for choosing random samples from a data series is:\n",
    "    # np.random.choice( a = **data series to choice from **, size = **number of samples to choose**, replace=True )\n",
    "    current_sample_list = ...\n",
    "\n",
    "    \n",
    "    # save the mean of that current sample list into the current [i] slot within bootstrap_means \n",
    "    # Hint: use the .mean() method\n",
    "    bootstrap_means[i]= ...\n",
    "      "
   ]
  },
  {
   "cell_type": "code",
   "execution_count": 37,
   "metadata": {
    "pycharm": {
     "name": "#%%\n"
    },
    "scrolled": false
   },
   "outputs": [
    {
     "name": "stdout",
     "output_type": "stream",
     "text": [
      "Mean nWBV for the entire population: 0.749\n"
     ]
    },
    {
     "data": {
      "text/plain": [
       "<matplotlib.legend.Legend at 0x7ff4c2628520>"
      ]
     },
     "execution_count": 37,
     "metadata": {},
     "output_type": "execute_result"
    },
    {
     "data": {
      "image/png": "[encoded data removed]",
      "text/plain": [
       "<Figure size 1000x800 with 1 Axes>"
      ]
     },
     "metadata": {},
     "output_type": "display_data"
    }
   ],
   "source": [
    "# mean nWBV of the entire population\n",
    "print(\"Mean nWBV for the entire population: %.3f\" % (data[\"nWBV\"].mean()))\n",
    "\n",
    "# plot the distribution of bootstrapped means in a histogram\n",
    "fig, ax = plt.subplots(1, figsize=(10,8))\n",
    "ax.hist(bootstrap_means, rwidth=0.75, alpha=0.5, bins=20,\n",
    "        label=\"Distribution of Bootstrapped Means\")\n",
    "ax.set_xlabel(\"nWBV (A.U.)\")\n",
    "ax.set_xlim([0.71, 0.78])\n",
    "ax.set_ylabel(\"Count\")\n",
    "ax.set_ylim([0, 500])\n",
    "\n",
    "# plot a vertical line showing the mean nWBV of the dementia population\n",
    "ax.plot(np.array([1, 1])*dementia_data[\"nWBV\"].mean(), [0, 500], lw=2, label = \"Mean nWBV of dementia popluation\")\n",
    "ax.set_title(\"Bootstrap Test for \")\n",
    "ax.legend()\n",
    "\n"
   ]
  },
  {
   "cell_type": "markdown",
   "metadata": {},
   "source": [
    "### Step 4: P-value\n",
    "Calculate the p-value of the bootstrap test. The p-value is calculated as the proportion of bootstrapped nWBV means that fall below (**<=**) the mean nWBV of the population of dementia patients plus 1/(sample size) to account for uncertainty in the bootstrapping procedure."
   ]
  },
  {
   "cell_type": "code",
   "execution_count": 38,
   "metadata": {},
   "outputs": [
    {
     "name": "stdout",
     "output_type": "stream",
     "text": [
      "p-value of the bootstrap test: 0.010 \n"
     ]
    }
   ],
   "source": [
    "# Hint: The operation for less than or equal to is (<=) in python, this will return a list of \"True\" or \"False\" values (Boolean).\n",
    "# You already calculated mean_dementia above\n",
    "\n",
    "boolean_list_for_below_dementia_mean = ...\n",
    "\n",
    "# Turns list of True/False into the number of \"True\"\n",
    "number_of_bootstrap_means_below_dementia = boolean_list_for_below_dementia_mean.sum()\n",
    "\n",
    "# Hint: the division operation is \"/\" in python\n",
    "proportion_of_bootstrap_means_below_dementia = ...\n",
    "\n",
    "p_value = proportion_of_bootstrap_means_below_dementia + 1/n_samples\n",
    "\n",
    "print(\"p-value of the bootstrap test: %0.3f \" % (p_value)) "
   ]
  },
  {
   "cell_type": "markdown",
   "metadata": {},
   "source": [
    "Answer the questions in the Lab 1 assignment to report and interpret the information in this notebook."
   ]
  }
 ],
 "metadata": {
  "kernelspec": {
   "display_name": "Python 3 (ipykernel)",
   "language": "python",
   "name": "python3"
  },
  "language_info": {
   "codemirror_mode": {
    "name": "ipython",
    "version": 3
   },
   "file_extension": ".py",
   "mimetype": "text/x-python",
   "name": "python",
   "nbconvert_exporter": "python",
   "pygments_lexer": "ipython3",
   "version": "3.9.13"
  },
  "latex_envs": {
   "LaTeX_envs_menu_present": true,
   "autoclose": false,
   "autocomplete": true,
   "bibliofile": "biblio.bib",
   "cite_by": "apalike",
   "current_citInitial": 1,
   "eqLabelWithNumbers": true,
   "eqNumInitial": 1,
   "hotkeys": {
    "equation": "Ctrl-E",
    "itemize": "Ctrl-I"
   },
   "labels_anchors": false,
   "latex_user_defs": false,
   "report_style_numbering": false,
   "user_envs_cfg": false
  },
  "varInspector": {
   "cols": {
    "lenName": 16,
    "lenType": 16,
    "lenVar": 40
   },
   "kernels_config": {
    "python": {
     "delete_cmd_postfix": "",
     "delete_cmd_prefix": "del ",
     "library": "var_list.py",
     "varRefreshCmd": "print(var_dic_list())"
    },
    "r": {
     "delete_cmd_postfix": ") ",
     "delete_cmd_prefix": "rm(",
     "library": "var_list.r",
     "varRefreshCmd": "cat(var_dic_list()) "
    }
   },
   "types_to_exclude": [
    "module",
    "function",
    "builtin_function_or_method",
    "instance",
    "_Feature"
   ],
   "window_display": false
  }
 },
 "nbformat": 4,
 "nbformat_minor": 1
}
