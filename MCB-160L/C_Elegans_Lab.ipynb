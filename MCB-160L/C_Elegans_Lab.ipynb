{
 "cells": [
  {
   "cell_type": "code",
   "metadata": {
    "collapsed": true,
    "pycharm": {
     "name": "#%%\n"
    }
   },
   "source": [
    "import numpy as np\n",
    "import matplotlib.pyplot as plt\n",
    "import pandas as pd\n",
    "from scipy import stats as st"
   ],
   "execution_count": 100,
   "outputs": []
  },
  {
   "cell_type": "markdown",
   "source": [
    "#### 1.) Load in and clean the data from your classmates."
   ],
   "metadata": {
    "collapsed": false,
    "pycharm": {
     "name": "#%% md\n"
    }
   }
  },
  {
   "cell_type": "code",
   "execution_count": 134,
   "outputs": [],
   "source": [
    "class_data = pd.read_csv(\"MCB_160L_F21_Lab_11_class_data.csv\",\n",
    "                         skiprows=1,\n",
    "                         header=[0, 1]).dropna()\n",
    "genes = ["juIs76", "juIs76; unc-40", "juIs76; unc-6", "juIs76; unc-5"]\n",
    "for gene in genes:\n",
    "    # for each gene, calculate the percent of defective worms\n",
    "    pct_defect = class_data.loc[:, (gene, \"Abnormal DD/VD\")].values/class_data.loc[:, gene].values.sum(axis=1)\n",
    "    class_data[(gene, \"Percent Defective\")] = pct_defect\n",
    "class_data.sort_index(axis=1, inplace=True)"
   ],
   "metadata": {
    "collapsed": false,
    "pycharm": {
     "name": "#%%\n"
    }
   }
  },
  {
   "cell_type": "markdown",
   "source": [
    "#### 2.) Calculate the mean and standard deviation of the % pathfinding defects for each genotype."
   ],
   "metadata": {
    "collapsed": false
   }
  },
  {
   "cell_type": "code",
   "execution_count": 144,
   "outputs": [
    {
     "name": "stdout",
     "output_type": "stream",
     "text": [
      "Gene [juIs76]:\n",
      "\t mean pct pathfinding defects: 0.025\n",
      "\t std pct pathfinding defects: 0.048\n",
      "\n",
      "Gene [juIs76; unc-40]:\n",
      "\t mean pct pathfinding defects: 0.484\n",
      "\t std pct pathfinding defects: 0.192\n",
      "\n",
      "Gene [juIs76; unc-5]:\n",
      "\t mean pct pathfinding defects: 0.923\n",
      "\t std pct pathfinding defects: 0.074\n",
      "\n",
      "Gene [juIs76; unc-6]:\n",
      "\t mean pct pathfinding defects: 0.882\n",
      "\t std pct pathfinding defects: 0.077\n",
      "\n"
     ]
    }
   ],
   "source": [
    "for gene in genes:\n",
    "    print(\"Gene [\" + gene + \"]:\")\n",
    "    print(\"\\t mean pct pathfinding defects: %.3f\" % class_data[(gene, \"Percent Defective\")].mean())\n",
    "    print(\"\\t std pct pathfinding defects: %.3f\\n\" % class_data[(gene, \"Percent Defective\")].std())"
   ],
   "metadata": {
    "collapsed": false,
    "pycharm": {
     "name": "#%%\n"
    }
   }
  },
  {
   "cell_type": "markdown",
   "source": [
    "#### Make a bar graph of the means with error bars (include this in your lab report)"
   ],
   "metadata": {
    "collapsed": false,
    "pycharm": {
     "name": "#%% md\n"
    }
   }
  },
  {
   "cell_type": "code",
   "execution_count": 147,
   "outputs": [
    {
     "data": {
      "text/plain": "<Figure size 432x288 with 1 Axes>",
      "image/png": "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\n"
     },
     "metadata": {
      "needs_background": "light"
     },
     "output_type": "display_data"
    }
   ],
   "source": [
    "fig, ax = plt.subplots(1)\n",
    "for gene, i in zip(genes, range(len(genes))):\n",
    "      # plot bar of the average percent defective for the gene\n",
    "      ax.bar(i, class_data[(gene, \"Percent Defective\")].mean())\n",
    "      # plot errorbar for the standard deviation of percent defective for the gene\n",
    "      ax.errorbar(i, class_data[(gene, \"Percent Defective\")].mean(),\n",
    "                  class_data[(gene, \"Percent Defective\")].std(),\n",
    "                  capsize=5\n",
    "                  )\n",
    "ax.set_ylim([0, 1.1])\n",
    "ax.set_xticks(range(len(genes)))\n",
    "ax.set_xticklabels(genes)\n",
    "ax.set_title(\"% Pathfinding Defects by Gene\")\n",
    "plt.show()"
   ],
   "metadata": {
    "collapsed": false,
    "pycharm": {
     "name": "#%%\n"
    }
   }
  },
  {
   "cell_type": "markdown",
   "source": [
    "#### Run an independent t-test (2-tailed, assuming equal variance) to compare the % pathfinding effects between each genotype."
   ],
   "metadata": {
    "collapsed": false,
    "pycharm": {
     "name": "#%% md\n"
    }
   }
  },
  {
   "cell_type": "code",
   "execution_count": 148,
   "outputs": [
    {
     "name": "stdout",
     "output_type": "stream",
     "text": [
      "Comparison of % Pathfinding Defects in [juIs76] vs [juIs76; unc-40]\n",
      "\t t-statistic: -9.560\n",
      "\t p-value: 6.733e-11\n",
      "\n",
      "Comparison of % Pathfinding Defects in [juIs76] vs [juIs76; unc-5]\n",
      "\t t-statistic: -41.890\n",
      "\t p-value: 1.581e-29\n",
      "\n",
      "Comparison of % Pathfinding Defects in [juIs76] vs [juIs76; unc-6]\n",
      "\t t-statistic: -38.772\n",
      "\t p-value: 1.794e-28\n",
      "\n",
      "Comparison of % Pathfinding Defects in [juIs76; unc-40] vs [juIs76; unc-5]\n",
      "\t t-statistic: -8.810\n",
      "\t p-value: 4.574e-10\n",
      "\n",
      "Comparison of % Pathfinding Defects in [juIs76; unc-40] vs [juIs76; unc-6]\n",
      "\t t-statistic: -7.945\n",
      "\t p-value: 4.550e-09\n",
      "\n",
      "Comparison of % Pathfinding Defects in [juIs76; unc-5] vs [juIs76; unc-6]\n",
      "\t t-statistic: 1.571\n",
      "\t p-value: 1.261e-01\n",
      "\n"
     ]
    }
   ],
   "source": [
    "from itertools import combinations\n",
    "for gene_1, gene_2 in combinations(genes, 2):\n",
    "    # for each pair of genes, compute at 2-tailed t-test, assuming pooled variance.\n",
    "    t_test_results = st.ttest_ind(a=class_data[(gene_1, \"Percent Defective\")],\n",
    "                        b=class_data[(gene_2, \"Percent Defective\")],\n",
    "                        equal_var=True)\n",
    "    print(\"Comparison of % Pathfinding Defects in [\" + gene_1 + \"] vs [\" + gene_2 + \"]\")\n",
    "    print(\"\\t t-statistic: %.3f\" % t_test_results[0])\n",
    "    print(\"\\t p-value: %.3e\\n\" % t_test_results[1])"
   ],
   "metadata": {
    "collapsed": false,
    "pycharm": {
     "name": "#%%\n"
    }
   }
  }
 ],
 "metadata": {
  "kernelspec": {
   "display_name": "Python 3",
   "language": "python",
   "name": "python3"
  },
  "language_info": {
   "codemirror_mode": {
    "name": "ipython",
    "version": 2
   },
   "file_extension": ".py",
   "mimetype": "text/x-python",
   "name": "python",
   "nbconvert_exporter": "python",
   "pygments_lexer": "ipython2",
   "version": "2.7.6"
  }
 },
 "nbformat": 4,
 "nbformat_minor": 0
}
