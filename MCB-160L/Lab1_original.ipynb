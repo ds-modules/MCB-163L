{
 "cells": [
  {
   "cell_type": "markdown",
   "metadata": {
    "collapsed": true,
    "pycharm": {
     "name": "#%% md\n"
    }
   },
   "source": [
    "## Lab 1\n",
    "Jupyter is an interactive, web-based python interface. Jupyter is a great tool for data-science, since you can iteratively develop your project and debug your code without having to continually reload data into memory. To run each cell of the jupyter notebook, use  $\\texttt{ctrl+enter}$. In addition to jupyter, three python packages are used in this notebook: numpy (to perform computations + sampling), pandas (to clean the data), and matplotlib (to plot the data) \n",
    "\n",
    "\n",
    "### Learning Objectives\n",
    "- Use descriptive statistics to quantify the basic features of data\n",
    "- Use bootstrapping to determine the probability of a given observation in a non-normal dataset\n",
    "- Understand what a p-value means with respect to the tested hypothesis.\n"
   ]
  },
  {
   "cell_type": "code",
   "execution_count": 5,
   "metadata": {},
   "outputs": [],
   "source": [
    "# Step 0: import python packages \n",
    "import numpy as np\n",
    "import matplotlib.pyplot as plt \n",
    "import pandas as pd"
   ]
  },
  {
   "cell_type": "code",
   "execution_count": 6,
   "metadata": {
    "pycharm": {
     "name": "#%%\n"
    }
   },
   "outputs": [
    {
     "name": "stdout",
     "output_type": "stream",
     "text": [
      "Sample of dementia data:\n",
      "               ID M/F Hand  Age  Educ  SES  MMSE  CDR  eTIV   nWBV    ASF  \\\n",
      "2   OAS1_0003_MR1   F    R   73   4.0  3.0  27.0  0.5  1454  0.708  1.207   \n",
      "13  OAS1_0015_MR1   M    R   76   2.0  NaN  28.0  0.5  1738  0.719  1.010   \n",
      "14  OAS1_0016_MR1   M    R   82   2.0  4.0  27.0  0.5  1477  0.739  1.188   \n",
      "19  OAS1_0021_MR1   F    R   80   3.0  3.0  23.0  0.5  1794  0.765  0.978   \n",
      "20  OAS1_0022_MR1   F    R   69   2.0  4.0  23.0  0.5  1447  0.757  1.213   \n",
      "\n",
      "    Delay  \n",
      "2     NaN  \n",
      "13    NaN  \n",
      "14    NaN  \n",
      "19    NaN  \n",
      "20    NaN   \n",
      "\n",
      "Sample of healthy data:\n",
      "               ID M/F Hand  Age  Educ  SES  MMSE  CDR  eTIV   nWBV    ASF  \\\n",
      "0   OAS1_0001_MR1   F    R   74   2.0  3.0  29.0  0.0  1344  0.743  1.306   \n",
      "1   OAS1_0002_MR1   F    R   55   4.0  1.0  29.0  0.0  1147  0.810  1.531   \n",
      "8   OAS1_0010_MR1   M    R   74   5.0  2.0  30.0  0.0  1636  0.689  1.073   \n",
      "9   OAS1_0011_MR1   F    R   52   3.0  2.0  30.0  0.0  1321  0.827  1.329   \n",
      "11  OAS1_0013_MR1   F    R   81   5.0  2.0  30.0  0.0  1664  0.679  1.055   \n",
      "\n",
      "    Delay  \n",
      "0     NaN  \n",
      "1     NaN  \n",
      "8     NaN  \n",
      "9     NaN  \n",
      "11    NaN   \n",
      "\n"
     ]
    }
   ],
   "source": [
    "# Step 1: Load in + clean the data\n",
    "\n",
    "# load in data for the entire population\n",
    "data = (pd.read_csv(\"Data/oasis_cross-sectional.csv\")\n",
    "        .dropna(axis=0, subset=[\"CDR\", \"nWBV\"])) # drop the participants without a clinical dementia rating\n",
    "\n",
    "# isolate participants with nonzero clinical dementia rating\n",
    "dementia_data = data.loc[data.CDR > 0, :]\n",
    "\n",
    "# isolate general population (healthy participants)\n",
    "healthy_data = data.loc[data.CDR == 0.0, :]\n",
    "\n",
    "#print some of the data\n",
    "print(\"Sample of dementia data:\")\n",
    "print(dementia_data.head(), \"\\n\")\n",
    "\n",
    "print(\"Sample of healthy data:\")\n",
    "print(healthy_data.head(), \"\\n\")\n"
   ]
  },
  {
   "cell_type": "code",
   "execution_count": 7,
   "metadata": {
    "pycharm": {
     "name": "#%%\n"
    }
   },
   "outputs": [
    {
     "name": "stdout",
     "output_type": "stream",
     "text": [
      "Mean nWBV for the healthy population: 0.769\n",
      "Mean nWBV for the dementia patients: 0.722\n",
      "\n",
      "Median nWBV for the healthy population: 0.773\n",
      "Median nWBV for the dementia patients: 0.722\n",
      "\n",
      "Stdev of nWBV for the healthy population: 0.046\n",
      "Stdev of nWBV for the dementia patients: 0.036\n",
      "\n",
      "Min nWBV for the healthy population: 0.645\n",
      "Min nWBV for the dementia patients: 0.644\n",
      "\n",
      "Max nWBV for the healthy population: 0.847\n",
      "Max nWBV for the dementia patients: 0.797\n",
      "\n",
      "Range of nWBV for the healthy population: 0.202\n",
      "Range of nWBV for the dementia patients: 0.153\n",
      "\n",
      "Count nWBV for the healthy population: 135.000\n",
      "Count nWBV for the dementia patients: 100.000\n",
      "\n"
     ]
    },
    {
     "data": {
      "text/plain": [
       "Text(0, 0.5, 'Count')"
      ]
     },
     "execution_count": 7,
     "metadata": {},
     "output_type": "execute_result"
    },
    {
     "data": {
      "image/png": "[encoded data removed]",
      "text/plain": [
       "<Figure size 720x576 with 1 Axes>"
      ]
     },
     "metadata": {
      "needs_background": "light"
     },
     "output_type": "display_data"
    }
   ],
   "source": [
    "# Step 2: Basic Stats + Plotting in Python\n",
    "# Mean\n",
    "print(\"Mean nWBV for the healthy population: %.3f\" % (healthy_data[\"nWBV\"].mean()))\n",
    "print(\"Mean nWBV for the dementia patients: %.3f\\n\" % (dementia_data[\"nWBV\"].mean()))\n",
    "\n",
    "# Median\n",
    "print(\"Median nWBV for the healthy population: %.3f\" % (healthy_data[\"nWBV\"].median()))\n",
    "print(\"Median nWBV for the dementia patients: %.3f\\n\" % (dementia_data[\"nWBV\"].median()))\n",
    "\n",
    "# Standard Deviation\n",
    "print(\"Stdev of nWBV for the healthy population: %.3f\" % (healthy_data[\"nWBV\"].std()))\n",
    "print(\"Stdev of nWBV for the dementia patients: %.3f\\n\" % (dementia_data[\"nWBV\"].std()))\n",
    "\n",
    "# Min\n",
    "print(\"Min nWBV for the healthy population: %.3f\" % (healthy_data[\"nWBV\"].min()))\n",
    "print(\"Min nWBV for the dementia patients: %.3f\\n\" % (dementia_data[\"nWBV\"].min()))\n",
    "\n",
    "# Max\n",
    "print(\"Max nWBV for the healthy population: %.3f\" % (healthy_data[\"nWBV\"].max()))\n",
    "print(\"Max nWBV for the dementia patients: %.3f\\n\" % (dementia_data[\"nWBV\"].max()))\n",
    "\n",
    "# Range\n",
    "print(\"Range of nWBV for the healthy population: %.3f\" % (healthy_data[\"nWBV\"].max() - healthy_data[\"nWBV\"].min()))\n",
    "print(\"Range of nWBV for the dementia patients: %.3f\\n\" % (dementia_data[\"nWBV\"].max() - dementia_data[\"nWBV\"].min()))\n",
    "\n",
    "# Count\n",
    "print(\"Count nWBV for the healthy population: %.3f\" % (healthy_data[\"nWBV\"].count()))\n",
    "print(\"Count nWBV for the dementia patients: %.3f\\n\" % (dementia_data[\"nWBV\"].count()))\n",
    "\n",
    "# Plot data\n",
    "fig, ax = plt.subplots(1, figsize=(10,8))\n",
    "ax.hist(healthy_data[\"nWBV\"].values, rwidth=0.5, alpha=0.75, bins=10)\n",
    "ax.hist(dementia_data[\"nWBV\"].values, rwidth=0.5, alpha=0.75, bins=10)\n",
    "\n",
    "ax.set_title(\"Distribution of nWBV for Dementia vs Healthy Population\")\n",
    "ax.set_xlabel(\"nWBV (A.U.)\")\n",
    "ax.set_ylabel(\"Count\")"
   ]
  },
  {
   "cell_type": "code",
   "execution_count": 8,
   "metadata": {
    "pycharm": {
     "name": "#%%\n"
    }
   },
   "outputs": [
    {
     "name": "stdout",
     "output_type": "stream",
     "text": [
      "Mean nWBV for the entire population: 0.749\n",
      "p-value of bootstrap test: 0.010 \n"
     ]
    },
    {
     "data": {
      "image/png": "[encoded data removed]",
      "text/plain": [
       "<Figure size 720x576 with 1 Axes>"
      ]
     },
     "metadata": {
      "needs_background": "light"
     },
     "output_type": "display_data"
    }
   ],
   "source": [
    "# Step 3: Bootstrapping\n",
    "\n",
    "# mean nWBV of the entire population\n",
    "print(\"Mean nWBV for the entire population: %.3f\" % (data[\"nWBV\"].mean()))\n",
    "\n",
    "# Subsample population data\n",
    "n_iter = 3000\n",
    "n_samples = dementia_data.shape[0]\n",
    "bootstrap_means = np.zeros([n_iter,])\n",
    "for i in range(n_iter):\n",
    "    # pull random sample\n",
    "    sample_idx = np.random.choice(a=np.arange(0, data.shape[0]), size=n_samples, replace=True)\n",
    "    bootstrap_means[i] = data[\"nWBV\"].values[sample_idx].mean()\n",
    "\n",
    "# plot the bootstrap distribution\n",
    "fig, ax = plt.subplots(1, figsize=(10,8))\n",
    "ax.hist(bootstrap_means, rwidth=0.75, alpha=0.5, bins=20,\n",
    "        label=\"Distribution of Bootstrapped Means\")\n",
    "ax.set_xlabel(\"nWBV (A.U.)\")\n",
    "ax.set_xlim([0.71, 0.78])\n",
    "ax.set_ylabel(\"Count\")\n",
    "ax.set_ylim([0, 500])\n",
    "\n",
    "# plot a vertical line showing the mean nWBV of the dementia population\n",
    "ax.plot(np.array([1, 1])*dementia_data[\"nWBV\"].mean(), [0, 500], lw=2, label = \"Mean nWBV of dementia popluation\")\n",
    "ax.set_title(\"Bootstrap Test for \")\n",
    "ax.legend()\n",
    "\n",
    "# calculate the p-value of the boostrap test\n",
    "p_value = (np.sum(bootstrap_means <= dementia_data[\"nWBV\"].mean()) /n_iter) + 1/n_samples\n",
    "# The p-value is calculated as the proportion of bootstrapped nWBV means that fall below the mean nWBV of the demented population. \n",
    "# We add 1/(sample size) to the p-value to account for uncertainty in the bootstrapping procedure. \n",
    "print(\"p-value of bootstrap test: %0.3f \" % (p_value)) "
   ]
  }
 ],
 "metadata": {
  "kernelspec": {
   "display_name": "Python 3",
   "language": "python",
   "name": "python3"
  },
  "language_info": {
   "codemirror_mode": {
    "name": "ipython",
    "version": 3
   },
   "file_extension": ".py",
   "mimetype": "text/x-python",
   "name": "python",
   "nbconvert_exporter": "python",
   "pygments_lexer": "ipython3",
   "version": "3.7.3"
  },
  "latex_envs": {
   "LaTeX_envs_menu_present": true,
   "autoclose": false,
   "autocomplete": true,
   "bibliofile": "biblio.bib",
   "cite_by": "apalike",
   "current_citInitial": 1,
   "eqLabelWithNumbers": true,
   "eqNumInitial": 1,
   "hotkeys": {
    "equation": "Ctrl-E",
    "itemize": "Ctrl-I"
   },
   "labels_anchors": false,
   "latex_user_defs": false,
   "report_style_numbering": false,
   "user_envs_cfg": false
  },
  "varInspector": {
   "cols": {
    "lenName": 16,
    "lenType": 16,
    "lenVar": 40
   },
   "kernels_config": {
    "python": {
     "delete_cmd_postfix": "",
     "delete_cmd_prefix": "del ",
     "library": "var_list.py",
     "varRefreshCmd": "print(var_dic_list())"
    },
    "r": {
     "delete_cmd_postfix": ") ",
     "delete_cmd_prefix": "rm(",
     "library": "var_list.r",
     "varRefreshCmd": "cat(var_dic_list()) "
    }
   },
   "types_to_exclude": [
    "module",
    "function",
    "builtin_function_or_method",
    "instance",
    "_Feature"
   ],
   "window_display": false
  }
 },
 "nbformat": 4,
 "nbformat_minor": 1
}
