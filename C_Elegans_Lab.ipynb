{
 "cells": [
  {
   "cell_type": "code",
   "metadata": {
    "collapsed": true,
    "pycharm": {
     "name": "#%%\n"
    }
   },
   "source": [
    "import numpy as np\n",
    "import matplotlib.pyplot as plt\n",
    "import pandas as pd\n",
    "from scipy import stats as st"
   ],
   "execution_count": 9,
   "outputs": []
  },
  {
   "cell_type": "markdown",
   "source": [
    "#### 1.) Load in and clean the data from your classmates."
   ],
   "metadata": {
    "collapsed": false,
    "pycharm": {
     "name": "#%% md\n"
    }
   }
  },
  {
   "cell_type": "code",
   "execution_count": 10,
   "outputs": [],
   "source": [
    "class_data = pd.read_csv(\"MCB_160L_F21_Lab_11_class_data.csv\",\n",
    "                         skiprows=1,\n",
    "                         header=[0, 1]).dropna()\n",
    "# pull list of genes\n",
    "genes = [\"juIs76\", \"juIs76; unc-40\", \"juIs76; unc-6\", \"juIs76; unc-6\"]\n",
    "for gene in genes:\n",
    "    # for each gene, calculate the percent of defective worms\n",
    "    pct_defect = class_data.loc[:, (gene, \"Abnormal DD/VD\")].values/class_data.loc[:, gene].values.sum(axis=1)\n",
    "    class_data[(gene, \"Percent Defective\")] = pct_defect\n",
    "class_data.sort_index(axis=1, inplace=True)"
   ],
   "metadata": {
    "collapsed": false,
    "pycharm": {
     "name": "#%%\n"
    }
   }
  },
  {
   "cell_type": "markdown",
   "source": [
    "#### 2.) Calculate the mean and standard deviation of the % pathfinding defects for each genotype."
   ],
   "metadata": {
    "collapsed": false
   }
  },
  {
   "cell_type": "code",
   "execution_count": 11,
   "outputs": [
    {
     "name": "stdout",
     "output_type": "stream",
     "text": [
      "Gene [juIs76]:\n",
      "\t mean pct pathfinding defects: 0.025\n",
      "\t std pct pathfinding defects: 0.048\n",
      "\n",
      "Gene [juIs76; unc-40]:\n",
      "\t mean pct pathfinding defects: 0.484\n",
      "\t std pct pathfinding defects: 0.192\n",
      "\n",
      "Gene [juIs76; unc-6]:\n",
      "\t mean pct pathfinding defects: 0.864\n",
      "\t std pct pathfinding defects: 0.075\n",
      "\n",
      "Gene [juIs76; unc-6]:\n",
      "\t mean pct pathfinding defects: 0.864\n",
      "\t std pct pathfinding defects: 0.075\n",
      "\n"
     ]
    }
   ],
   "source": [
    "for gene in genes:\n",
    "    print(\"Gene [\" + gene + \"]:\")\n",
    "    print(\"\\t mean pct pathfinding defects: %.3f\" % class_data[(gene, \"Percent Defective\")].mean())\n",
    "    print(\"\\t std pct pathfinding defects: %.3f\\n\" % class_data[(gene, \"Percent Defective\")].std())"
   ],
   "metadata": {
    "collapsed": false,
    "pycharm": {
     "name": "#%%\n"
    }
   }
  },
  {
   "cell_type": "markdown",
   "source": [
    "#### Make a bar graph of the means with error bars (include this in your lab report)"
   ],
   "metadata": {
    "collapsed": false,
    "pycharm": {
     "name": "#%% md\n"
    }
   }
  },
  {
   "cell_type": "code",
   "execution_count": 18,
   "outputs": [
    {
     "data": {
      "text/plain": "<Figure size 432x288 with 1 Axes>",
      "image/png": "[encoded data removed]"
     },
     "metadata": {
      "needs_background": "light"
     },
     "output_type": "display_data"
    }
   ],
   "source": [
    "fig, ax = plt.subplots(1)\n",
    "for gene, i in zip(genes, range(len(genes))):\n",
    "      # plot bar of the average percent defective for the gene\n",
    "      ax.bar(i, class_data[(gene, \"Percent Defective\")].mean())\n",
    "      # plot errorbar for the standard deviation of percent defective for the gene\n",
    "      ax.errorbar(i, class_data[(gene, \"Percent Defective\")].mean(),\n",
    "                  class_data[(gene, \"Percent Defective\")].std(),\n",
    "                  capsize=5\n",
    "                  )\n",
    "ax.set_xticks(range(len(genes)))\n",
    "ax.set_xticklabels(genes)\n",
    "ax.set_title(\"% Pathfinding Defects by Gene\")\n",
    "plt.show()"
   ],
   "metadata": {
    "collapsed": false,
    "pycharm": {
     "name": "#%%\n"
    }
   }
  },
  {
   "cell_type": "markdown",
   "source": [
    "#### Run an independent t-test (2-tailed, assuming equal variance) to compare the % pathfinding effects between each genotype."
   ],
   "metadata": {
    "collapsed": false,
    "pycharm": {
     "name": "#%% md\n"
    }
   }
  },
  {
   "cell_type": "code",
   "execution_count": 13,
   "outputs": [
    {
     "name": "stdout",
     "output_type": "stream",
     "text": [
      "Comparison of % Pathfinding Defects in [juIs76] vs [juIs76; unc-40]\n",
      "\t t-statistic: -9.560\n",
      "\t p-value: 6.733e-11\n",
      "\n",
      "Comparison of % Pathfinding Defects in [juIs76] vs [juIs76; unc-6]\n",
      "\t t-statistic: -38.947\n",
      "\t p-value: 1.558e-28\n",
      "\n",
      "Comparison of % Pathfinding Defects in [juIs76] vs [juIs76; unc-6]\n",
      "\t t-statistic: -38.947\n",
      "\t p-value: 1.558e-28\n",
      "\n",
      "Comparison of % Pathfinding Defects in [juIs76; unc-40] vs [juIs76; unc-6]\n",
      "\t t-statistic: -7.620\n",
      "\t p-value: 1.107e-08\n",
      "\n",
      "Comparison of % Pathfinding Defects in [juIs76; unc-40] vs [juIs76; unc-6]\n",
      "\t t-statistic: -7.620\n",
      "\t p-value: 1.107e-08\n",
      "\n",
      "Comparison of % Pathfinding Defects in [juIs76; unc-6] vs [juIs76; unc-6]\n",
      "\t t-statistic: 0.000\n",
      "\t p-value: 1.000e+00\n",
      "\n"
     ]
    }
   ],
   "source": [
    "from itertools import combinations\n",
    "for gene_1, gene_2 in combinations(genes, 2):\n",
    "    # for each pair of genes, compute at 2-tailed t-test, assuming pooled variance.\n",
    "    t_test_results = st.ttest_ind(a=class_data[(gene_1, \"Percent Defective\")],\n",
    "                        b=class_data[(gene_2, \"Percent Defective\")],\n",
    "                        equal_var=True)\n",
    "    print(\"Comparison of % Pathfinding Defects in [\" + gene_1 + \"] vs [\" + gene_2 + \"]\")\n",
    "    print(\"\\t t-statistic: %.3f\" % t_test_results[0])\n",
    "    print(\"\\t p-value: %.3e\\n\" % t_test_results[1])"
   ],
   "metadata": {
    "collapsed": false,
    "pycharm": {
     "name": "#%%\n"
    }
   }
  }
 ],
 "metadata": {
  "kernelspec": {
   "display_name": "Python 3",
   "language": "python",
   "name": "python3"
  },
  "language_info": {
   "codemirror_mode": {
    "name": "ipython",
    "version": 2
   },
   "file_extension": ".py",
   "mimetype": "text/x-python",
   "name": "python",
   "nbconvert_exporter": "python",
   "pygments_lexer": "ipython2",
   "version": "2.7.6"
  }
 },
 "nbformat": 4,
 "nbformat_minor": 0
}